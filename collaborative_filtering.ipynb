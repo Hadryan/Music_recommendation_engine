{
 "cells": [
  {
   "cell_type": "code",
   "execution_count": 1,
   "metadata": {},
   "outputs": [],
   "source": [
    "import pandas as pd\n",
    "from sklearn.model_selection import train_test_split\n",
    "import matplotlib.pyplot as plt\n",
    "import time\n",
    "from sklearn.externals import joblib\n",
    "import numpy as np\n",
    "import random\n",
    "from random import randint\n",
    "import os\n",
    "#Popularity model\n",
    "#Collaborative filtering\n",
    "#"
   ]
  },
  {
   "cell_type": "code",
   "execution_count": 2,
   "metadata": {},
   "outputs": [],
   "source": [
    "from surprise import BaselineOnly\n",
    "from surprise import Dataset\n",
    "from surprise import Reader\n",
    "from surprise.model_selection import cross_validate\n",
    "from surprise import SVD\n",
    "from surprise.model_selection import train_test_split\n",
    "from surprise import accuracy\n",
    "from surprise import SVDpp\n",
    "from surprise.model_selection import GridSearchCV\n",
    "from surprise import dump"
   ]
  },
  {
   "cell_type": "code",
   "execution_count": 67,
   "metadata": {},
   "outputs": [
    {
     "name": "stderr",
     "output_type": "stream",
     "text": [
      "C:\\Users\\johan\\Anaconda3\\lib\\site-packages\\numpy\\lib\\arraysetops.py:569: FutureWarning: elementwise comparison failed; returning scalar instead, but in the future will perform elementwise comparison\n",
      "  mask |= (ar1 == a)\n"
     ]
    }
   ],
   "source": [
    "def get_dataset(offline=True,dataset=None):\n",
    "    \n",
    "    if offline:\n",
    "        if dataset=='Original': #the full 2 000000 dataset without spotify ids\n",
    "            song_df = pd.read_csv(r'datasets/cf_dataset.csv',index_col=0)\n",
    "        if dataset=='Edit':\n",
    "            song_df =pd.read_csv(r'datasets/full_df.csv',index_col=0)\n",
    "\n",
    "        \n",
    "    else:\n",
    "        triplets_file = 'The /10000.txt'\n",
    "        songs_metadata_file = 'https://static.turi.com/datasets/millionsong/song_data.csv'\n",
    "\n",
    "        song_df_1 = pd.read_table(triplets_file,header=None)\n",
    "        song_df_1.columns = ['user_id', 'song_id', 'listen_count']\n",
    "\n",
    "        #Read song  metadata\n",
    "        song_df_2 =  pd.read_csv(songs_metadata_file)\n",
    "\n",
    "        song_df_1.columns = ['user_id', 'song_id', 'listen_count']\n",
    "        #Merge the two dataframes above to create input dataframe for recommender systems\n",
    "        song_df = pd.merge(song_df_1, song_df_2.drop_duplicates(['song_id']), on=\"song_id\", how=\"left\")\n",
    "\n",
    "    \n",
    "    return song_df\n",
    "\n",
    "df = get_dataset(dataset='Edit')"
   ]
  },
  {
   "cell_type": "code",
   "execution_count": 4,
   "metadata": {},
   "outputs": [
    {
     "data": {
      "text/plain": [
       "7759"
      ]
     },
     "execution_count": 4,
     "metadata": {},
     "output_type": "execute_result"
    }
   ],
   "source": [
    "len(df['song_id'].unique()) #7759 unique songs"
   ]
  },
  {
   "cell_type": "code",
   "execution_count": 5,
   "metadata": {},
   "outputs": [
    {
     "data": {
      "text/plain": [
       "75951"
      ]
     },
     "execution_count": 5,
     "metadata": {},
     "output_type": "execute_result"
    }
   ],
   "source": [
    "len(df['user_id'].unique()) #75951 unique users"
   ]
  },
  {
   "cell_type": "code",
   "execution_count": 6,
   "metadata": {
    "collapsed": true,
    "jupyter": {
     "outputs_hidden": true
    }
   },
   "outputs": [
    {
     "ename": "NameError",
     "evalue": "name 'song_df' is not defined",
     "output_type": "error",
     "traceback": [
      "\u001b[1;31m---------------------------------------------------------------------------\u001b[0m",
      "\u001b[1;31mNameError\u001b[0m                                 Traceback (most recent call last)",
      "\u001b[1;32m<ipython-input-6-c958e034b0c6>\u001b[0m in \u001b[0;36m<module>\u001b[1;34m()\u001b[0m\n\u001b[1;32m----> 1\u001b[1;33m \u001b[0msong_df\u001b[0m\u001b[1;33m.\u001b[0m\u001b[0mto_csv\u001b[0m\u001b[1;33m(\u001b[0m\u001b[1;34m'cf_dataset.csv'\u001b[0m\u001b[1;33m)\u001b[0m\u001b[1;33m\u001b[0m\u001b[0m\n\u001b[0m",
      "\u001b[1;31mNameError\u001b[0m: name 'song_df' is not defined"
     ]
    }
   ],
   "source": [
    "def overwrite():\n",
    "    song_df.to_csv('cf_dataset.csv')"
   ]
  },
  {
   "cell_type": "code",
   "execution_count": 6,
   "metadata": {},
   "outputs": [
    {
     "name": "stdout",
     "output_type": "stream",
     "text": [
      "<class 'pandas.core.frame.DataFrame'>\n",
      "Int64Index: 1550217 entries, 0 to 1550216\n",
      "Data columns (total 21 columns):\n",
      "user_id             1550217 non-null object\n",
      "song_id             1550217 non-null object\n",
      "listen_count        1550217 non-null int64\n",
      "title               1550217 non-null object\n",
      "release             1550217 non-null object\n",
      "artist_name         1550217 non-null object\n",
      "year                1550217 non-null int64\n",
      "raw_ratings         1550217 non-null int64\n",
      "queery              1550217 non-null object\n",
      "ids                 1550217 non-null object\n",
      "filter_que          1550217 non-null object\n",
      "danceability        1550217 non-null float64\n",
      "acousticness        1550217 non-null float64\n",
      "energy              1550217 non-null float64\n",
      "instrumentalness    1550217 non-null float64\n",
      "key                 1550217 non-null float64\n",
      "liveness            1550217 non-null float64\n",
      "loudness            1550217 non-null float64\n",
      "mode                1550217 non-null float64\n",
      "tempo               1550217 non-null float64\n",
      "valence             1550217 non-null float64\n",
      "dtypes: float64(10), int64(3), object(8)\n",
      "memory usage: 260.2+ MB\n"
     ]
    }
   ],
   "source": [
    "df.info()"
   ]
  },
  {
   "cell_type": "code",
   "execution_count": 7,
   "metadata": {},
   "outputs": [
    {
     "data": {
      "text/html": [
       "<div>\n",
       "<style scoped>\n",
       "    .dataframe tbody tr th:only-of-type {\n",
       "        vertical-align: middle;\n",
       "    }\n",
       "\n",
       "    .dataframe tbody tr th {\n",
       "        vertical-align: top;\n",
       "    }\n",
       "\n",
       "    .dataframe thead th {\n",
       "        text-align: right;\n",
       "    }\n",
       "</style>\n",
       "<table border=\"1\" class=\"dataframe\">\n",
       "  <thead>\n",
       "    <tr style=\"text-align: right;\">\n",
       "      <th></th>\n",
       "      <th>user_id</th>\n",
       "      <th>song_id</th>\n",
       "      <th>listen_count</th>\n",
       "      <th>title</th>\n",
       "      <th>release</th>\n",
       "      <th>artist_name</th>\n",
       "      <th>year</th>\n",
       "      <th>raw_ratings</th>\n",
       "      <th>queery</th>\n",
       "      <th>ids</th>\n",
       "      <th>...</th>\n",
       "      <th>danceability</th>\n",
       "      <th>acousticness</th>\n",
       "      <th>energy</th>\n",
       "      <th>instrumentalness</th>\n",
       "      <th>key</th>\n",
       "      <th>liveness</th>\n",
       "      <th>loudness</th>\n",
       "      <th>mode</th>\n",
       "      <th>tempo</th>\n",
       "      <th>valence</th>\n",
       "    </tr>\n",
       "  </thead>\n",
       "  <tbody>\n",
       "    <tr>\n",
       "      <th>0</th>\n",
       "      <td>b80344d063b5ccb3212f76538f3d9e43d87dca9e</td>\n",
       "      <td>SOBBMDR12A8C13253B</td>\n",
       "      <td>2</td>\n",
       "      <td>Entre Dos Aguas</td>\n",
       "      <td>Flamenco Para Niños</td>\n",
       "      <td>Paco De Lucia</td>\n",
       "      <td>1976</td>\n",
       "      <td>2</td>\n",
       "      <td>Entre Dos Aguas artist:Paco De Lucia album:Fla...</td>\n",
       "      <td>spotify:track:3Fgk17TfdjXWFroJy29pXH</td>\n",
       "      <td>...</td>\n",
       "      <td>0.458</td>\n",
       "      <td>0.933</td>\n",
       "      <td>0.657</td>\n",
       "      <td>0.878</td>\n",
       "      <td>4.0</td>\n",
       "      <td>0.0842</td>\n",
       "      <td>-12.02</td>\n",
       "      <td>0.0</td>\n",
       "      <td>102.45</td>\n",
       "      <td>0.914</td>\n",
       "    </tr>\n",
       "    <tr>\n",
       "      <th>1</th>\n",
       "      <td>930d2be6c85315d72cab9823ec0f7bfe7e477794</td>\n",
       "      <td>SOBBMDR12A8C13253B</td>\n",
       "      <td>1</td>\n",
       "      <td>Entre Dos Aguas</td>\n",
       "      <td>Flamenco Para Niños</td>\n",
       "      <td>Paco De Lucia</td>\n",
       "      <td>1976</td>\n",
       "      <td>1</td>\n",
       "      <td>Entre Dos Aguas artist:Paco De Lucia album:Fla...</td>\n",
       "      <td>spotify:track:3Fgk17TfdjXWFroJy29pXH</td>\n",
       "      <td>...</td>\n",
       "      <td>0.458</td>\n",
       "      <td>0.933</td>\n",
       "      <td>0.657</td>\n",
       "      <td>0.878</td>\n",
       "      <td>4.0</td>\n",
       "      <td>0.0842</td>\n",
       "      <td>-12.02</td>\n",
       "      <td>0.0</td>\n",
       "      <td>102.45</td>\n",
       "      <td>0.914</td>\n",
       "    </tr>\n",
       "    <tr>\n",
       "      <th>2</th>\n",
       "      <td>41c12ce05f18b757d9257e5ad4f8303b4b8a8758</td>\n",
       "      <td>SOBBMDR12A8C13253B</td>\n",
       "      <td>66</td>\n",
       "      <td>Entre Dos Aguas</td>\n",
       "      <td>Flamenco Para Niños</td>\n",
       "      <td>Paco De Lucia</td>\n",
       "      <td>1976</td>\n",
       "      <td>20</td>\n",
       "      <td>Entre Dos Aguas artist:Paco De Lucia album:Fla...</td>\n",
       "      <td>spotify:track:3Fgk17TfdjXWFroJy29pXH</td>\n",
       "      <td>...</td>\n",
       "      <td>0.458</td>\n",
       "      <td>0.933</td>\n",
       "      <td>0.657</td>\n",
       "      <td>0.878</td>\n",
       "      <td>4.0</td>\n",
       "      <td>0.0842</td>\n",
       "      <td>-12.02</td>\n",
       "      <td>0.0</td>\n",
       "      <td>102.45</td>\n",
       "      <td>0.914</td>\n",
       "    </tr>\n",
       "    <tr>\n",
       "      <th>3</th>\n",
       "      <td>f8611810514c93d57bb846aa0b5e0410d9730a14</td>\n",
       "      <td>SOBBMDR12A8C13253B</td>\n",
       "      <td>2</td>\n",
       "      <td>Entre Dos Aguas</td>\n",
       "      <td>Flamenco Para Niños</td>\n",
       "      <td>Paco De Lucia</td>\n",
       "      <td>1976</td>\n",
       "      <td>2</td>\n",
       "      <td>Entre Dos Aguas artist:Paco De Lucia album:Fla...</td>\n",
       "      <td>spotify:track:3Fgk17TfdjXWFroJy29pXH</td>\n",
       "      <td>...</td>\n",
       "      <td>0.458</td>\n",
       "      <td>0.933</td>\n",
       "      <td>0.657</td>\n",
       "      <td>0.878</td>\n",
       "      <td>4.0</td>\n",
       "      <td>0.0842</td>\n",
       "      <td>-12.02</td>\n",
       "      <td>0.0</td>\n",
       "      <td>102.45</td>\n",
       "      <td>0.914</td>\n",
       "    </tr>\n",
       "    <tr>\n",
       "      <th>4</th>\n",
       "      <td>5968a59e582f434a223b3786cd51c9f4690b38d4</td>\n",
       "      <td>SOBBMDR12A8C13253B</td>\n",
       "      <td>6</td>\n",
       "      <td>Entre Dos Aguas</td>\n",
       "      <td>Flamenco Para Niños</td>\n",
       "      <td>Paco De Lucia</td>\n",
       "      <td>1976</td>\n",
       "      <td>6</td>\n",
       "      <td>Entre Dos Aguas artist:Paco De Lucia album:Fla...</td>\n",
       "      <td>spotify:track:3Fgk17TfdjXWFroJy29pXH</td>\n",
       "      <td>...</td>\n",
       "      <td>0.458</td>\n",
       "      <td>0.933</td>\n",
       "      <td>0.657</td>\n",
       "      <td>0.878</td>\n",
       "      <td>4.0</td>\n",
       "      <td>0.0842</td>\n",
       "      <td>-12.02</td>\n",
       "      <td>0.0</td>\n",
       "      <td>102.45</td>\n",
       "      <td>0.914</td>\n",
       "    </tr>\n",
       "  </tbody>\n",
       "</table>\n",
       "<p>5 rows × 21 columns</p>\n",
       "</div>"
      ],
      "text/plain": [
       "                                    user_id             song_id  listen_count  \\\n",
       "0  b80344d063b5ccb3212f76538f3d9e43d87dca9e  SOBBMDR12A8C13253B             2   \n",
       "1  930d2be6c85315d72cab9823ec0f7bfe7e477794  SOBBMDR12A8C13253B             1   \n",
       "2  41c12ce05f18b757d9257e5ad4f8303b4b8a8758  SOBBMDR12A8C13253B            66   \n",
       "3  f8611810514c93d57bb846aa0b5e0410d9730a14  SOBBMDR12A8C13253B             2   \n",
       "4  5968a59e582f434a223b3786cd51c9f4690b38d4  SOBBMDR12A8C13253B             6   \n",
       "\n",
       "             title              release    artist_name  year  raw_ratings  \\\n",
       "0  Entre Dos Aguas  Flamenco Para Niños  Paco De Lucia  1976            2   \n",
       "1  Entre Dos Aguas  Flamenco Para Niños  Paco De Lucia  1976            1   \n",
       "2  Entre Dos Aguas  Flamenco Para Niños  Paco De Lucia  1976           20   \n",
       "3  Entre Dos Aguas  Flamenco Para Niños  Paco De Lucia  1976            2   \n",
       "4  Entre Dos Aguas  Flamenco Para Niños  Paco De Lucia  1976            6   \n",
       "\n",
       "                                              queery  \\\n",
       "0  Entre Dos Aguas artist:Paco De Lucia album:Fla...   \n",
       "1  Entre Dos Aguas artist:Paco De Lucia album:Fla...   \n",
       "2  Entre Dos Aguas artist:Paco De Lucia album:Fla...   \n",
       "3  Entre Dos Aguas artist:Paco De Lucia album:Fla...   \n",
       "4  Entre Dos Aguas artist:Paco De Lucia album:Fla...   \n",
       "\n",
       "                                    ids  ... danceability  acousticness  \\\n",
       "0  spotify:track:3Fgk17TfdjXWFroJy29pXH  ...        0.458         0.933   \n",
       "1  spotify:track:3Fgk17TfdjXWFroJy29pXH  ...        0.458         0.933   \n",
       "2  spotify:track:3Fgk17TfdjXWFroJy29pXH  ...        0.458         0.933   \n",
       "3  spotify:track:3Fgk17TfdjXWFroJy29pXH  ...        0.458         0.933   \n",
       "4  spotify:track:3Fgk17TfdjXWFroJy29pXH  ...        0.458         0.933   \n",
       "\n",
       "   energy  instrumentalness  key  liveness  loudness  mode   tempo  valence  \n",
       "0   0.657             0.878  4.0    0.0842    -12.02   0.0  102.45    0.914  \n",
       "1   0.657             0.878  4.0    0.0842    -12.02   0.0  102.45    0.914  \n",
       "2   0.657             0.878  4.0    0.0842    -12.02   0.0  102.45    0.914  \n",
       "3   0.657             0.878  4.0    0.0842    -12.02   0.0  102.45    0.914  \n",
       "4   0.657             0.878  4.0    0.0842    -12.02   0.0  102.45    0.914  \n",
       "\n",
       "[5 rows x 21 columns]"
      ]
     },
     "execution_count": 7,
     "metadata": {},
     "output_type": "execute_result"
    }
   ],
   "source": [
    "df.head()"
   ]
  },
  {
   "cell_type": "code",
   "execution_count": 68,
   "metadata": {},
   "outputs": [
    {
     "data": {
      "text/plain": [
       "1347089"
      ]
     },
     "execution_count": 68,
     "metadata": {},
     "output_type": "execute_result"
    }
   ],
   "source": [
    "counts = df['user_id'].value_counts()\n",
    "large = counts[counts>10]\n",
    "df1 = df.copy()\n",
    "df1.set_index('user_id',inplace=True)\n",
    "df1 = df1.loc[large.index,:]\n",
    "df1.reset_index(inplace=True)\n",
    "df=df1\n",
    "len(df)"
   ]
  },
  {
   "cell_type": "code",
   "execution_count": 108,
   "metadata": {},
   "outputs": [
    {
     "data": {
      "text/plain": [
       "42288"
      ]
     },
     "execution_count": 108,
     "metadata": {},
     "output_type": "execute_result"
    }
   ],
   "source": [
    "len(df.user_id.unique())"
   ]
  },
  {
   "cell_type": "code",
   "execution_count": 106,
   "metadata": {},
   "outputs": [
    {
     "data": {
      "text/plain": [
       "1347089"
      ]
     },
     "execution_count": 106,
     "metadata": {},
     "output_type": "execute_result"
    }
   ],
   "source": [
    "len(df)"
   ]
  },
  {
   "cell_type": "code",
   "execution_count": 9,
   "metadata": {
    "collapsed": true,
    "jupyter": {
     "outputs_hidden": true
    }
   },
   "outputs": [
    {
     "ename": "TypeError",
     "evalue": "aggregate() missing 1 required positional argument: 'func'",
     "output_type": "error",
     "traceback": [
      "\u001b[1;31m---------------------------------------------------------------------------\u001b[0m",
      "\u001b[1;31mTypeError\u001b[0m                                 Traceback (most recent call last)",
      "\u001b[1;32m<ipython-input-9-1adf032025db>\u001b[0m in \u001b[0;36m<module>\u001b[1;34m()\u001b[0m\n\u001b[0;32m      2\u001b[0m \u001b[0mgrouped_sum\u001b[0m \u001b[1;33m=\u001b[0m \u001b[0msong_group\u001b[0m\u001b[1;33m[\u001b[0m\u001b[1;34m'listen_count'\u001b[0m\u001b[1;33m]\u001b[0m\u001b[1;33m.\u001b[0m\u001b[0msum\u001b[0m\u001b[1;33m(\u001b[0m\u001b[1;33m)\u001b[0m\u001b[1;33m\u001b[0m\u001b[0m\n\u001b[0;32m      3\u001b[0m \u001b[0msong_group\u001b[0m\u001b[1;33m[\u001b[0m\u001b[1;34m'Perc'\u001b[0m\u001b[1;33m]\u001b[0m \u001b[1;33m=\u001b[0m \u001b[0msong_group\u001b[0m\u001b[1;33m[\u001b[0m\u001b[1;34m'listen_count'\u001b[0m\u001b[1;33m]\u001b[0m\u001b[1;33m.\u001b[0m\u001b[0mdiv\u001b[0m\u001b[1;33m(\u001b[0m\u001b[0mgrouped_sum\u001b[0m\u001b[1;33m)\u001b[0m\u001b[1;33m*\u001b[0m\u001b[1;36m100\u001b[0m\u001b[1;33m\u001b[0m\u001b[0m\n\u001b[1;32m----> 4\u001b[1;33m \u001b[0mdf\u001b[0m\u001b[1;33m.\u001b[0m\u001b[0magg\u001b[0m\u001b[1;33m(\u001b[0m\u001b[1;33m)\u001b[0m\u001b[1;33m\u001b[0m\u001b[0m\n\u001b[0m\u001b[0;32m      5\u001b[0m \u001b[0msong_group\u001b[0m\u001b[1;33m.\u001b[0m\u001b[0msort_values\u001b[0m\u001b[1;33m(\u001b[0m\u001b[1;33m[\u001b[0m\u001b[1;34m'listen_count'\u001b[0m\u001b[1;33m,\u001b[0m\u001b[1;34m'title'\u001b[0m\u001b[1;33m]\u001b[0m\u001b[1;33m,\u001b[0m\u001b[0mascending\u001b[0m\u001b[1;33m=\u001b[0m\u001b[1;33m[\u001b[0m\u001b[1;36m0\u001b[0m\u001b[1;33m,\u001b[0m\u001b[1;36m1\u001b[0m\u001b[1;33m]\u001b[0m\u001b[1;33m,\u001b[0m\u001b[0minplace\u001b[0m\u001b[1;33m=\u001b[0m\u001b[1;32mTrue\u001b[0m\u001b[1;33m)\u001b[0m\u001b[1;33m\u001b[0m\u001b[0m\n\u001b[0;32m      6\u001b[0m \u001b[1;33m\u001b[0m\u001b[0m\n",
      "\u001b[1;31mTypeError\u001b[0m: aggregate() missing 1 required positional argument: 'func'"
     ]
    }
   ],
   "source": [
    "song_group = df.groupby(['title']).agg({'listen_count':'count'}).reset_index()\n",
    "grouped_sum = song_group['listen_count'].sum()\n",
    "song_group['Perc'] = song_group['listen_count'].div(grouped_sum)*100\n",
    "df.agg()\n",
    "song_group.sort_values(['listen_count','title'],ascending=[0,1],inplace=True)\n",
    "\n",
    "#song_group.merge(df,on='title')\n",
    "song_group.head(10)"
   ]
  },
  {
   "cell_type": "markdown",
   "metadata": {},
   "source": [
    "### Checking the listen count for the songs"
   ]
  },
  {
   "cell_type": "code",
   "execution_count": 63,
   "metadata": {},
   "outputs": [
    {
     "data": {
      "text/plain": [
       "(array([7.157e+03, 1.210e+02, 5.200e+01, 1.600e+01, 1.100e+01, 3.000e+00,\n",
       "        2.000e+00, 0.000e+00, 2.000e+00, 2.000e+00]),\n",
       " array([  48. ,  746.4, 1444.8, 2143.2, 2841.6, 3540. , 4238.4, 4936.8,\n",
       "        5635.2, 6333.6, 7032. ]),\n",
       " <a list of 10 Patch objects>)"
      ]
     },
     "execution_count": 63,
     "metadata": {},
     "output_type": "execute_result"
    },
    {
     "data": {
      "image/png": "[encoded data removed]",
      "text/plain": [
       "<Figure size 432x288 with 1 Axes>"
      ]
     },
     "metadata": {
      "needs_background": "light"
     },
     "output_type": "display_data"
    }
   ],
   "source": [
    "plt.hist(song_group.listen_count,log=True)"
   ]
  },
  {
   "cell_type": "code",
   "execution_count": 45,
   "metadata": {},
   "outputs": [
    {
     "data": {
      "text/plain": [
       "1550217"
      ]
     },
     "execution_count": 45,
     "metadata": {},
     "output_type": "execute_result"
    }
   ],
   "source": [
    "song_group.reset_index(inplace=True)\n",
    "song_group.listen_count.sum()"
   ]
  },
  {
   "cell_type": "code",
   "execution_count": 11,
   "metadata": {},
   "outputs": [
    {
     "data": {
      "text/html": [
       "<div>\n",
       "<style scoped>\n",
       "    .dataframe tbody tr th:only-of-type {\n",
       "        vertical-align: middle;\n",
       "    }\n",
       "\n",
       "    .dataframe tbody tr th {\n",
       "        vertical-align: top;\n",
       "    }\n",
       "\n",
       "    .dataframe thead th {\n",
       "        text-align: right;\n",
       "    }\n",
       "</style>\n",
       "<table border=\"1\" class=\"dataframe\">\n",
       "  <thead>\n",
       "    <tr style=\"text-align: right;\">\n",
       "      <th></th>\n",
       "      <th>user_id</th>\n",
       "      <th>song_id</th>\n",
       "      <th>listen_count</th>\n",
       "      <th>title</th>\n",
       "      <th>release</th>\n",
       "      <th>artist_name</th>\n",
       "      <th>year</th>\n",
       "      <th>raw_ratings</th>\n",
       "      <th>queery</th>\n",
       "      <th>ids</th>\n",
       "      <th>...</th>\n",
       "      <th>danceability</th>\n",
       "      <th>acousticness</th>\n",
       "      <th>energy</th>\n",
       "      <th>instrumentalness</th>\n",
       "      <th>key</th>\n",
       "      <th>liveness</th>\n",
       "      <th>loudness</th>\n",
       "      <th>mode</th>\n",
       "      <th>tempo</th>\n",
       "      <th>valence</th>\n",
       "    </tr>\n",
       "  </thead>\n",
       "  <tbody>\n",
       "    <tr>\n",
       "      <th>0</th>\n",
       "      <td>b80344d063b5ccb3212f76538f3d9e43d87dca9e</td>\n",
       "      <td>SOBBMDR12A8C13253B</td>\n",
       "      <td>2</td>\n",
       "      <td>Entre Dos Aguas</td>\n",
       "      <td>Flamenco Para Niños</td>\n",
       "      <td>Paco De Lucia</td>\n",
       "      <td>1976</td>\n",
       "      <td>2</td>\n",
       "      <td>Entre Dos Aguas artist:Paco De Lucia album:Fla...</td>\n",
       "      <td>spotify:track:3Fgk17TfdjXWFroJy29pXH</td>\n",
       "      <td>...</td>\n",
       "      <td>0.458</td>\n",
       "      <td>0.933</td>\n",
       "      <td>0.657</td>\n",
       "      <td>0.878</td>\n",
       "      <td>4.0</td>\n",
       "      <td>0.0842</td>\n",
       "      <td>-12.02</td>\n",
       "      <td>0.0</td>\n",
       "      <td>102.45</td>\n",
       "      <td>0.914</td>\n",
       "    </tr>\n",
       "    <tr>\n",
       "      <th>1</th>\n",
       "      <td>930d2be6c85315d72cab9823ec0f7bfe7e477794</td>\n",
       "      <td>SOBBMDR12A8C13253B</td>\n",
       "      <td>1</td>\n",
       "      <td>Entre Dos Aguas</td>\n",
       "      <td>Flamenco Para Niños</td>\n",
       "      <td>Paco De Lucia</td>\n",
       "      <td>1976</td>\n",
       "      <td>1</td>\n",
       "      <td>Entre Dos Aguas artist:Paco De Lucia album:Fla...</td>\n",
       "      <td>spotify:track:3Fgk17TfdjXWFroJy29pXH</td>\n",
       "      <td>...</td>\n",
       "      <td>0.458</td>\n",
       "      <td>0.933</td>\n",
       "      <td>0.657</td>\n",
       "      <td>0.878</td>\n",
       "      <td>4.0</td>\n",
       "      <td>0.0842</td>\n",
       "      <td>-12.02</td>\n",
       "      <td>0.0</td>\n",
       "      <td>102.45</td>\n",
       "      <td>0.914</td>\n",
       "    </tr>\n",
       "    <tr>\n",
       "      <th>2</th>\n",
       "      <td>41c12ce05f18b757d9257e5ad4f8303b4b8a8758</td>\n",
       "      <td>SOBBMDR12A8C13253B</td>\n",
       "      <td>66</td>\n",
       "      <td>Entre Dos Aguas</td>\n",
       "      <td>Flamenco Para Niños</td>\n",
       "      <td>Paco De Lucia</td>\n",
       "      <td>1976</td>\n",
       "      <td>20</td>\n",
       "      <td>Entre Dos Aguas artist:Paco De Lucia album:Fla...</td>\n",
       "      <td>spotify:track:3Fgk17TfdjXWFroJy29pXH</td>\n",
       "      <td>...</td>\n",
       "      <td>0.458</td>\n",
       "      <td>0.933</td>\n",
       "      <td>0.657</td>\n",
       "      <td>0.878</td>\n",
       "      <td>4.0</td>\n",
       "      <td>0.0842</td>\n",
       "      <td>-12.02</td>\n",
       "      <td>0.0</td>\n",
       "      <td>102.45</td>\n",
       "      <td>0.914</td>\n",
       "    </tr>\n",
       "    <tr>\n",
       "      <th>3</th>\n",
       "      <td>f8611810514c93d57bb846aa0b5e0410d9730a14</td>\n",
       "      <td>SOBBMDR12A8C13253B</td>\n",
       "      <td>2</td>\n",
       "      <td>Entre Dos Aguas</td>\n",
       "      <td>Flamenco Para Niños</td>\n",
       "      <td>Paco De Lucia</td>\n",
       "      <td>1976</td>\n",
       "      <td>2</td>\n",
       "      <td>Entre Dos Aguas artist:Paco De Lucia album:Fla...</td>\n",
       "      <td>spotify:track:3Fgk17TfdjXWFroJy29pXH</td>\n",
       "      <td>...</td>\n",
       "      <td>0.458</td>\n",
       "      <td>0.933</td>\n",
       "      <td>0.657</td>\n",
       "      <td>0.878</td>\n",
       "      <td>4.0</td>\n",
       "      <td>0.0842</td>\n",
       "      <td>-12.02</td>\n",
       "      <td>0.0</td>\n",
       "      <td>102.45</td>\n",
       "      <td>0.914</td>\n",
       "    </tr>\n",
       "    <tr>\n",
       "      <th>4</th>\n",
       "      <td>5968a59e582f434a223b3786cd51c9f4690b38d4</td>\n",
       "      <td>SOBBMDR12A8C13253B</td>\n",
       "      <td>6</td>\n",
       "      <td>Entre Dos Aguas</td>\n",
       "      <td>Flamenco Para Niños</td>\n",
       "      <td>Paco De Lucia</td>\n",
       "      <td>1976</td>\n",
       "      <td>6</td>\n",
       "      <td>Entre Dos Aguas artist:Paco De Lucia album:Fla...</td>\n",
       "      <td>spotify:track:3Fgk17TfdjXWFroJy29pXH</td>\n",
       "      <td>...</td>\n",
       "      <td>0.458</td>\n",
       "      <td>0.933</td>\n",
       "      <td>0.657</td>\n",
       "      <td>0.878</td>\n",
       "      <td>4.0</td>\n",
       "      <td>0.0842</td>\n",
       "      <td>-12.02</td>\n",
       "      <td>0.0</td>\n",
       "      <td>102.45</td>\n",
       "      <td>0.914</td>\n",
       "    </tr>\n",
       "  </tbody>\n",
       "</table>\n",
       "<p>5 rows × 21 columns</p>\n",
       "</div>"
      ],
      "text/plain": [
       "                                    user_id             song_id  listen_count  \\\n",
       "0  b80344d063b5ccb3212f76538f3d9e43d87dca9e  SOBBMDR12A8C13253B             2   \n",
       "1  930d2be6c85315d72cab9823ec0f7bfe7e477794  SOBBMDR12A8C13253B             1   \n",
       "2  41c12ce05f18b757d9257e5ad4f8303b4b8a8758  SOBBMDR12A8C13253B            66   \n",
       "3  f8611810514c93d57bb846aa0b5e0410d9730a14  SOBBMDR12A8C13253B             2   \n",
       "4  5968a59e582f434a223b3786cd51c9f4690b38d4  SOBBMDR12A8C13253B             6   \n",
       "\n",
       "             title              release    artist_name  year  raw_ratings  \\\n",
       "0  Entre Dos Aguas  Flamenco Para Niños  Paco De Lucia  1976            2   \n",
       "1  Entre Dos Aguas  Flamenco Para Niños  Paco De Lucia  1976            1   \n",
       "2  Entre Dos Aguas  Flamenco Para Niños  Paco De Lucia  1976           20   \n",
       "3  Entre Dos Aguas  Flamenco Para Niños  Paco De Lucia  1976            2   \n",
       "4  Entre Dos Aguas  Flamenco Para Niños  Paco De Lucia  1976            6   \n",
       "\n",
       "                                              queery  \\\n",
       "0  Entre Dos Aguas artist:Paco De Lucia album:Fla...   \n",
       "1  Entre Dos Aguas artist:Paco De Lucia album:Fla...   \n",
       "2  Entre Dos Aguas artist:Paco De Lucia album:Fla...   \n",
       "3  Entre Dos Aguas artist:Paco De Lucia album:Fla...   \n",
       "4  Entre Dos Aguas artist:Paco De Lucia album:Fla...   \n",
       "\n",
       "                                    ids  ... danceability  acousticness  \\\n",
       "0  spotify:track:3Fgk17TfdjXWFroJy29pXH  ...        0.458         0.933   \n",
       "1  spotify:track:3Fgk17TfdjXWFroJy29pXH  ...        0.458         0.933   \n",
       "2  spotify:track:3Fgk17TfdjXWFroJy29pXH  ...        0.458         0.933   \n",
       "3  spotify:track:3Fgk17TfdjXWFroJy29pXH  ...        0.458         0.933   \n",
       "4  spotify:track:3Fgk17TfdjXWFroJy29pXH  ...        0.458         0.933   \n",
       "\n",
       "   energy  instrumentalness  key  liveness  loudness  mode   tempo  valence  \n",
       "0   0.657             0.878  4.0    0.0842    -12.02   0.0  102.45    0.914  \n",
       "1   0.657             0.878  4.0    0.0842    -12.02   0.0  102.45    0.914  \n",
       "2   0.657             0.878  4.0    0.0842    -12.02   0.0  102.45    0.914  \n",
       "3   0.657             0.878  4.0    0.0842    -12.02   0.0  102.45    0.914  \n",
       "4   0.657             0.878  4.0    0.0842    -12.02   0.0  102.45    0.914  \n",
       "\n",
       "[5 rows x 21 columns]"
      ]
     },
     "execution_count": 11,
     "metadata": {},
     "output_type": "execute_result"
    }
   ],
   "source": [
    "df.head()"
   ]
  },
  {
   "cell_type": "code",
   "execution_count": null,
   "metadata": {
    "collapsed": true,
    "jupyter": {
     "outputs_hidden": true,
     "source_hidden": true
    }
   },
   "outputs": [],
   "source": [
    "fig,ax= plt.subplot()\n",
    "ax.hist(x=df['listen_count'],log=True, histtype='bar',label='Listen Count distribution')\n",
    "\n",
    "ax.title('Listen Count Distribution')\n",
    "ax.xlabel('Listen Count')\n",
    "ax.ylabel('Number of users (Log)')\n",
    "fig.show()"
   ]
  },
  {
   "cell_type": "code",
   "execution_count": 117,
   "metadata": {
    "collapsed": true,
    "jupyter": {
     "outputs_hidden": true
    }
   },
   "outputs": [
    {
     "name": "stdout",
     "output_type": "stream",
     "text": [
      "1 : 772651\n",
      "0.5735708628011957\n",
      "2 : 212960\n",
      "0.15808903494869306\n",
      "3 : 97110\n",
      "0.07208877809855177\n",
      "4 : 55920\n",
      "0.04151173382011136\n",
      "5 : 59516\n",
      "0.044181193670202935\n",
      "6 : 30161\n",
      "0.02238976043899104\n",
      "7 : 20404\n",
      "0.015146734922488417\n",
      "8 : 14888\n",
      "0.01105197949059045\n",
      "9 : 11068\n",
      "0.008216235155954803\n",
      "10 : 12043\n",
      "0.008940018068590865\n",
      "11 : 60368\n",
      "0.044813668584629526\n",
      "1347089 1347089 0.9999999999999999\n"
     ]
    }
   ],
   "source": [
    "x=0\n",
    "y= 0\n",
    "for i in range(1,12):\n",
    "    if i>10:\n",
    "        mask = df.listen_count>=i\n",
    "    else:\n",
    "        mask = df.listen_count==i\n",
    "    x+=len(df[mask])\n",
    "    y+=len(df[mask])/tot\n",
    "    print(f'{i} : {len(df[mask])}')\n",
    "    print(f'{len(df[mask])/tot}')\n",
    "print(tot,x,y)   "
   ]
  },
  {
   "cell_type": "code",
   "execution_count": 112,
   "metadata": {},
   "outputs": [],
   "source": [
    "tot =len(df)"
   ]
  },
  {
   "cell_type": "code",
   "execution_count": 77,
   "metadata": {
    "collapsed": true,
    "jupyter": {
     "outputs_hidden": true
    }
   },
   "outputs": [
    {
     "data": {
      "image/png": "[encoded data removed]",
      "text/plain": [
       "<Figure size 576x576 with 1 Axes>"
      ]
     },
     "metadata": {
      "needs_background": "light"
     },
     "output_type": "display_data"
    }
   ],
   "source": [
    "plt.figure(figsize=(8,8)) #change your figure size as per your desire here\n",
    "n,bins,patch = plt.hist(df['listen_count'],color='deepskyblue',log=False,\n",
    "                        alpha=0.8, label='Value', edgecolor='aqua', linewidth=2)\n",
    "plt.title('Listen Count Distribution',fontdict={'fontsize':15})\n",
    "plt.xlabel('Listen Count')\n",
    "plt.ylabel('Number of users (Log)')\n",
    "plt.grid()\n",
    "plt.savefig(r'listen_count.png')\n",
    "plt.show()\n"
   ]
  },
  {
   "cell_type": "code",
   "execution_count": 69,
   "metadata": {},
   "outputs": [
    {
     "data": {
      "text/plain": [
       "(array([772651., 212960.,  97110.,  55920.,  59516.,  30161.,  20404.,\n",
       "         14888.,  11068.,  72411.]),\n",
       " array([ 1. ,  1.9,  2.8,  3.7,  4.6,  5.5,  6.4,  7.3,  8.2,  9.1, 10. ]),\n",
       " <a list of 10 Patch objects>)"
      ]
     },
     "execution_count": 69,
     "metadata": {},
     "output_type": "execute_result"
    },
    {
     "data": {
      "image/png": "[encoded data removed]",
      "text/plain": [
       "<Figure size 432x288 with 1 Axes>"
      ]
     },
     "metadata": {
      "needs_background": "light"
     },
     "output_type": "display_data"
    }
   ],
   "source": [
    "ndf = df.copy()\n",
    "#mask = ndf.raw_ratings>1\n",
    "#ndf=ndf[mask]\n",
    "ndf['raw_ratings']= np.minimum(ndf['listen_count'],10)\n",
    "\n",
    "plt.hist(ndf['raw_ratings'])#log=True)"
   ]
  },
  {
   "cell_type": "markdown",
   "metadata": {},
   "source": [
    "### Set upper bound to 10"
   ]
  },
  {
   "cell_type": "code",
   "execution_count": 54,
   "metadata": {},
   "outputs": [
    {
     "data": {
      "image/png": "[encoded data removed]",
      "text/plain": [
       "<Figure size 576x576 with 1 Axes>"
      ]
     },
     "metadata": {
      "needs_background": "light"
     },
     "output_type": "display_data"
    }
   ],
   "source": [
    "plt.figure(figsize=(8,8)) #change your figure size as per your desire here\n",
    "n,bins,patch = plt.hist(ndf['raw_ratings'],color='steelblue',log=True,\n",
    "                        alpha=0.8, label='Value', edgecolor='deepskyblue', linewidth=2)\n",
    "plt.title('Scaled Ratings',fontdict={'fontsize':15})\n",
    "plt.xlabel('Rating')\n",
    "plt.ylabel('Number of users (Log)')\n",
    "plt.grid()\n",
    "plt.savefig(r'rating_hist.png')\n",
    "plt.show()"
   ]
  },
  {
   "cell_type": "code",
   "execution_count": 55,
   "metadata": {},
   "outputs": [
    {
     "data": {
      "text/html": [
       "<div>\n",
       "<style scoped>\n",
       "    .dataframe tbody tr th:only-of-type {\n",
       "        vertical-align: middle;\n",
       "    }\n",
       "\n",
       "    .dataframe tbody tr th {\n",
       "        vertical-align: top;\n",
       "    }\n",
       "\n",
       "    .dataframe thead th {\n",
       "        text-align: right;\n",
       "    }\n",
       "</style>\n",
       "<table border=\"1\" class=\"dataframe\">\n",
       "  <thead>\n",
       "    <tr style=\"text-align: right;\">\n",
       "      <th></th>\n",
       "      <th>user_id</th>\n",
       "      <th>song_id</th>\n",
       "      <th>listen_count</th>\n",
       "      <th>title</th>\n",
       "      <th>release</th>\n",
       "      <th>artist_name</th>\n",
       "      <th>year</th>\n",
       "      <th>raw_ratings</th>\n",
       "      <th>queery</th>\n",
       "      <th>ids</th>\n",
       "      <th>...</th>\n",
       "      <th>danceability</th>\n",
       "      <th>acousticness</th>\n",
       "      <th>energy</th>\n",
       "      <th>instrumentalness</th>\n",
       "      <th>key</th>\n",
       "      <th>liveness</th>\n",
       "      <th>loudness</th>\n",
       "      <th>mode</th>\n",
       "      <th>tempo</th>\n",
       "      <th>valence</th>\n",
       "    </tr>\n",
       "  </thead>\n",
       "  <tbody>\n",
       "    <tr>\n",
       "      <th>0</th>\n",
       "      <td>b80344d063b5ccb3212f76538f3d9e43d87dca9e</td>\n",
       "      <td>SOBBMDR12A8C13253B</td>\n",
       "      <td>2</td>\n",
       "      <td>Entre Dos Aguas</td>\n",
       "      <td>Flamenco Para Niños</td>\n",
       "      <td>Paco De Lucia</td>\n",
       "      <td>1976</td>\n",
       "      <td>2</td>\n",
       "      <td>Entre Dos Aguas artist:Paco De Lucia album:Fla...</td>\n",
       "      <td>spotify:track:3Fgk17TfdjXWFroJy29pXH</td>\n",
       "      <td>...</td>\n",
       "      <td>0.458</td>\n",
       "      <td>0.933</td>\n",
       "      <td>0.657</td>\n",
       "      <td>0.878</td>\n",
       "      <td>4.0</td>\n",
       "      <td>0.0842</td>\n",
       "      <td>-12.02</td>\n",
       "      <td>0.0</td>\n",
       "      <td>102.45</td>\n",
       "      <td>0.914</td>\n",
       "    </tr>\n",
       "    <tr>\n",
       "      <th>2</th>\n",
       "      <td>41c12ce05f18b757d9257e5ad4f8303b4b8a8758</td>\n",
       "      <td>SOBBMDR12A8C13253B</td>\n",
       "      <td>66</td>\n",
       "      <td>Entre Dos Aguas</td>\n",
       "      <td>Flamenco Para Niños</td>\n",
       "      <td>Paco De Lucia</td>\n",
       "      <td>1976</td>\n",
       "      <td>10</td>\n",
       "      <td>Entre Dos Aguas artist:Paco De Lucia album:Fla...</td>\n",
       "      <td>spotify:track:3Fgk17TfdjXWFroJy29pXH</td>\n",
       "      <td>...</td>\n",
       "      <td>0.458</td>\n",
       "      <td>0.933</td>\n",
       "      <td>0.657</td>\n",
       "      <td>0.878</td>\n",
       "      <td>4.0</td>\n",
       "      <td>0.0842</td>\n",
       "      <td>-12.02</td>\n",
       "      <td>0.0</td>\n",
       "      <td>102.45</td>\n",
       "      <td>0.914</td>\n",
       "    </tr>\n",
       "    <tr>\n",
       "      <th>3</th>\n",
       "      <td>f8611810514c93d57bb846aa0b5e0410d9730a14</td>\n",
       "      <td>SOBBMDR12A8C13253B</td>\n",
       "      <td>2</td>\n",
       "      <td>Entre Dos Aguas</td>\n",
       "      <td>Flamenco Para Niños</td>\n",
       "      <td>Paco De Lucia</td>\n",
       "      <td>1976</td>\n",
       "      <td>2</td>\n",
       "      <td>Entre Dos Aguas artist:Paco De Lucia album:Fla...</td>\n",
       "      <td>spotify:track:3Fgk17TfdjXWFroJy29pXH</td>\n",
       "      <td>...</td>\n",
       "      <td>0.458</td>\n",
       "      <td>0.933</td>\n",
       "      <td>0.657</td>\n",
       "      <td>0.878</td>\n",
       "      <td>4.0</td>\n",
       "      <td>0.0842</td>\n",
       "      <td>-12.02</td>\n",
       "      <td>0.0</td>\n",
       "      <td>102.45</td>\n",
       "      <td>0.914</td>\n",
       "    </tr>\n",
       "    <tr>\n",
       "      <th>4</th>\n",
       "      <td>5968a59e582f434a223b3786cd51c9f4690b38d4</td>\n",
       "      <td>SOBBMDR12A8C13253B</td>\n",
       "      <td>6</td>\n",
       "      <td>Entre Dos Aguas</td>\n",
       "      <td>Flamenco Para Niños</td>\n",
       "      <td>Paco De Lucia</td>\n",
       "      <td>1976</td>\n",
       "      <td>6</td>\n",
       "      <td>Entre Dos Aguas artist:Paco De Lucia album:Fla...</td>\n",
       "      <td>spotify:track:3Fgk17TfdjXWFroJy29pXH</td>\n",
       "      <td>...</td>\n",
       "      <td>0.458</td>\n",
       "      <td>0.933</td>\n",
       "      <td>0.657</td>\n",
       "      <td>0.878</td>\n",
       "      <td>4.0</td>\n",
       "      <td>0.0842</td>\n",
       "      <td>-12.02</td>\n",
       "      <td>0.0</td>\n",
       "      <td>102.45</td>\n",
       "      <td>0.914</td>\n",
       "    </tr>\n",
       "    <tr>\n",
       "      <th>6</th>\n",
       "      <td>ed789db32c9ccb59fb75e04a2b923b0f4777ae07</td>\n",
       "      <td>SOBBMDR12A8C13253B</td>\n",
       "      <td>3</td>\n",
       "      <td>Entre Dos Aguas</td>\n",
       "      <td>Flamenco Para Niños</td>\n",
       "      <td>Paco De Lucia</td>\n",
       "      <td>1976</td>\n",
       "      <td>3</td>\n",
       "      <td>Entre Dos Aguas artist:Paco De Lucia album:Fla...</td>\n",
       "      <td>spotify:track:3Fgk17TfdjXWFroJy29pXH</td>\n",
       "      <td>...</td>\n",
       "      <td>0.458</td>\n",
       "      <td>0.933</td>\n",
       "      <td>0.657</td>\n",
       "      <td>0.878</td>\n",
       "      <td>4.0</td>\n",
       "      <td>0.0842</td>\n",
       "      <td>-12.02</td>\n",
       "      <td>0.0</td>\n",
       "      <td>102.45</td>\n",
       "      <td>0.914</td>\n",
       "    </tr>\n",
       "  </tbody>\n",
       "</table>\n",
       "<p>5 rows × 21 columns</p>\n",
       "</div>"
      ],
      "text/plain": [
       "                                    user_id             song_id  listen_count  \\\n",
       "0  b80344d063b5ccb3212f76538f3d9e43d87dca9e  SOBBMDR12A8C13253B             2   \n",
       "2  41c12ce05f18b757d9257e5ad4f8303b4b8a8758  SOBBMDR12A8C13253B            66   \n",
       "3  f8611810514c93d57bb846aa0b5e0410d9730a14  SOBBMDR12A8C13253B             2   \n",
       "4  5968a59e582f434a223b3786cd51c9f4690b38d4  SOBBMDR12A8C13253B             6   \n",
       "6  ed789db32c9ccb59fb75e04a2b923b0f4777ae07  SOBBMDR12A8C13253B             3   \n",
       "\n",
       "             title              release    artist_name  year  raw_ratings  \\\n",
       "0  Entre Dos Aguas  Flamenco Para Niños  Paco De Lucia  1976            2   \n",
       "2  Entre Dos Aguas  Flamenco Para Niños  Paco De Lucia  1976           10   \n",
       "3  Entre Dos Aguas  Flamenco Para Niños  Paco De Lucia  1976            2   \n",
       "4  Entre Dos Aguas  Flamenco Para Niños  Paco De Lucia  1976            6   \n",
       "6  Entre Dos Aguas  Flamenco Para Niños  Paco De Lucia  1976            3   \n",
       "\n",
       "                                              queery  \\\n",
       "0  Entre Dos Aguas artist:Paco De Lucia album:Fla...   \n",
       "2  Entre Dos Aguas artist:Paco De Lucia album:Fla...   \n",
       "3  Entre Dos Aguas artist:Paco De Lucia album:Fla...   \n",
       "4  Entre Dos Aguas artist:Paco De Lucia album:Fla...   \n",
       "6  Entre Dos Aguas artist:Paco De Lucia album:Fla...   \n",
       "\n",
       "                                    ids  ... danceability  acousticness  \\\n",
       "0  spotify:track:3Fgk17TfdjXWFroJy29pXH  ...        0.458         0.933   \n",
       "2  spotify:track:3Fgk17TfdjXWFroJy29pXH  ...        0.458         0.933   \n",
       "3  spotify:track:3Fgk17TfdjXWFroJy29pXH  ...        0.458         0.933   \n",
       "4  spotify:track:3Fgk17TfdjXWFroJy29pXH  ...        0.458         0.933   \n",
       "6  spotify:track:3Fgk17TfdjXWFroJy29pXH  ...        0.458         0.933   \n",
       "\n",
       "   energy  instrumentalness  key  liveness  loudness  mode   tempo  valence  \n",
       "0   0.657             0.878  4.0    0.0842    -12.02   0.0  102.45    0.914  \n",
       "2   0.657             0.878  4.0    0.0842    -12.02   0.0  102.45    0.914  \n",
       "3   0.657             0.878  4.0    0.0842    -12.02   0.0  102.45    0.914  \n",
       "4   0.657             0.878  4.0    0.0842    -12.02   0.0  102.45    0.914  \n",
       "6   0.657             0.878  4.0    0.0842    -12.02   0.0  102.45    0.914  \n",
       "\n",
       "[5 rows x 21 columns]"
      ]
     },
     "execution_count": 55,
     "metadata": {},
     "output_type": "execute_result"
    }
   ],
   "source": [
    "ndf.head(5)"
   ]
  },
  {
   "cell_type": "code",
   "execution_count": 20,
   "metadata": {},
   "outputs": [],
   "source": [
    "def save_save():\n",
    "    ndf.to_csv(r'datasets\\user_data_with_ratings.csv')"
   ]
  },
  {
   "cell_type": "code",
   "execution_count": null,
   "metadata": {},
   "outputs": [],
   "source": [
    "print('hello')"
   ]
  },
  {
   "cell_type": "code",
   "execution_count": null,
   "metadata": {},
   "outputs": [],
   "source": [
    "#Popular Recommender\n",
    "def popular(data):\n",
    "    dat = data.copy()\n",
    "    dat.sort\n",
    "popular(ndf)"
   ]
  },
  {
   "cell_type": "markdown",
   "metadata": {},
   "source": [
    "# SVD"
   ]
  },
  {
   "cell_type": "markdown",
   "metadata": {},
   "source": [
    "## Vanilla SVD"
   ]
  },
  {
   "cell_type": "code",
   "execution_count": 76,
   "metadata": {},
   "outputs": [],
   "source": [
    "class SVDbuilder():\n",
    "    \"\"\"\n",
    "    Function to build and train an SVD model for the collaborative filtering.\n",
    "    \n",
    "    \n",
    "    The following functions are available:\n",
    "    - data(datafarme,sample=False,sample_size=1000) - Create dataset and choose if sample\n",
    "    - builder(self,*args) - build the algo, pass in agrs if you want any specs\n",
    "    - load_model(name)\n",
    "    - save_model(name)\n",
    "    - Gridsearch(data,params,target='rmse')\n",
    "    - fitting(gridsearch=False,full_set=False,dataframe=None)\n",
    "    - get_info()\n",
    "    - plot_atr()\n",
    "    \n",
    "    You can access:\n",
    "    data\n",
    "    algo\n",
    "    best_model\n",
    "    best_params\n",
    "    \"\"\"\n",
    "    def __init__(self,algotype):\n",
    "        self.svdT = algotype\n",
    "    def data(self,dataframe,sample=False,sample_size=10000):\n",
    "        reader = Reader(rating_scale=(1,10))\n",
    "        if sample:\n",
    "            dataframe = dataframe.sample(n=sample_size,random_state=0)\n",
    "        self.data = Dataset.load_from_df(dataframe[['user_id','ids','raw_ratings']],reader)\n",
    "        self.train,self.test = train_test_split(self.data,test_size=0.25)\n",
    "    \n",
    "    def builder(self,params=None,*args):\n",
    "        if self.svdT =='vanilla':\n",
    "            if args:           \n",
    "                self.algo= SVD(params)\n",
    "            else:\n",
    "                self.algo=SVD()\n",
    "        else:\n",
    "            if args:           \n",
    "                self.algo= SVDpp(args)\n",
    "            else:\n",
    "                self.algo=SVDpp()\n",
    "    def load_model(self,name):\n",
    "        _, loaded_algo = dump.load(name)\n",
    "        self.algo = loaded_algo\n",
    "    def save_model(self,name):\n",
    "        # Dump algorithm and reload it.\n",
    "        file_name = os.path.expanduser(name)\n",
    "        dump.dump(file_name, algo=self.algo)\n",
    "    \n",
    "   \n",
    "    def Gridsearch(self,params,target='rmse'):\n",
    "        start= time.time()\n",
    "        if self.svdT =='vanilla':\n",
    "            self.gs = GridSearchCV(SVD, param_grid, measures=['rmse', 'mae'], cv=3)\n",
    "        else:\n",
    "            self.gs = GridSearchCV(SVDpp, param_grid, measures=['rmse', 'mae'], cv=3) \n",
    "        \n",
    "        self.gs.fit(self.data)\n",
    "        print(self.gs.best_score['rmse'])\n",
    "\n",
    "        # combination of parameters that gave the best RMSE score\n",
    "        \n",
    "        print(self.gs.best_params['rmse'])\n",
    "        self.best_model = self.gs.best_estimator['rmse']\n",
    "\n",
    "        print('Time ',time.time()-start)\n",
    "        \n",
    "    def fitting(self,gridsearch=False,full_set=False,dataframe=None):\n",
    "        start= time.time()\n",
    "        if gridsearch:\n",
    "            if full_set:\n",
    "                Dataset.load_from_df(dataframe[['user_id','song_id','raw_ratings']],reader)\n",
    "                self.train,self.test = train_test_split(data,test_size=0.25)\n",
    "            \n",
    "            self.algo = self.best_model\n",
    "            self.algo.fit(self.train)\n",
    "        else:\n",
    "            self.algo.fit(self.train)\n",
    "        \n",
    "        self.pred = self.algo.test(self.test)\n",
    "        print('Time ',time.time()-start)\n",
    "    def get_info(self):\n",
    "        x= self.algo\n",
    "        preds= x.test(self.test)\n",
    "        dd = {'Factors':[x.n_factors],\n",
    "             'Epochs':[x.n_epochs],\n",
    "             'Init Mean':x.init_mean,\n",
    "             'Init Std': x.init_std_dev,             \n",
    "              'Root MSE': accuracy.rmse(preds),\n",
    "              'MSE':accuracy.mse(preds),\n",
    "              'Mean average sqr':accuracy.mae(preds),\n",
    "              'Fraction of Concordant Pairs':accuracy.fcp(preds)\n",
    "             #'Regularization rate':x.reg_all,\n",
    "             #'Learning rate':x.lr_all,\n",
    "             }\n",
    "        self.atr=pd.DataFrame.from_dict(data=dd)\n",
    "        return self.atr\n",
    "    def plot_atr(self):\n",
    "        x=self.algo\n",
    "        if self.svdT =='vanilla':\n",
    "            stuff = [x.pu,x.qi,x.bu,x.bi]\n",
    "        else:\n",
    "            stuff = [x.pu,x.qi,x.yj,x.bu,x.bi]\n",
    "            \n",
    "        fig,axs = plt.subplots(len(stuff),figsize=(10,10))\n",
    "        fig.suptitle('Model Attributes')\n",
    "        \n",
    "        \n",
    "        for i,k in enumerate(stuff):\n",
    "            axs[i].plot(k)\n",
    "        \n",
    "        "
   ]
  },
  {
   "cell_type": "code",
   "execution_count": 206,
   "metadata": {},
   "outputs": [
    {
     "data": {
      "text/plain": [
       "__main__.SVDbuilder"
      ]
     },
     "execution_count": 206,
     "metadata": {},
     "output_type": "execute_result"
    }
   ],
   "source": [
    "SVDbuilder"
   ]
  },
  {
   "cell_type": "code",
   "execution_count": 77,
   "metadata": {},
   "outputs": [
    {
     "name": "stdout",
     "output_type": "stream",
     "text": [
      "Time  0.422914981842041\n"
     ]
    }
   ],
   "source": [
    "model1 = SVDbuilder('vanilla')\n",
    "model1.data(ndf,sample=True)\n",
    "model1.builder()\n",
    "model1.fitting()"
   ]
  },
  {
   "cell_type": "code",
   "execution_count": 78,
   "metadata": {},
   "outputs": [
    {
     "name": "stdout",
     "output_type": "stream",
     "text": [
      "RMSE: 2.4570\n",
      "MSE: 6.0370\n",
      "MAE:  1.7845\n",
      "FCP:  0.4805\n"
     ]
    },
    {
     "data": {
      "text/html": [
       "<div>\n",
       "<style scoped>\n",
       "    .dataframe tbody tr th:only-of-type {\n",
       "        vertical-align: middle;\n",
       "    }\n",
       "\n",
       "    .dataframe tbody tr th {\n",
       "        vertical-align: top;\n",
       "    }\n",
       "\n",
       "    .dataframe thead th {\n",
       "        text-align: right;\n",
       "    }\n",
       "</style>\n",
       "<table border=\"1\" class=\"dataframe\">\n",
       "  <thead>\n",
       "    <tr style=\"text-align: right;\">\n",
       "      <th></th>\n",
       "      <th>Factors</th>\n",
       "      <th>Epochs</th>\n",
       "      <th>Init Mean</th>\n",
       "      <th>Init Std</th>\n",
       "      <th>Root MSE</th>\n",
       "      <th>MSE</th>\n",
       "      <th>Mean average sqr</th>\n",
       "      <th>Fraction of Concordant Pairs</th>\n",
       "    </tr>\n",
       "  </thead>\n",
       "  <tbody>\n",
       "    <tr>\n",
       "      <th>0</th>\n",
       "      <td>100</td>\n",
       "      <td>20</td>\n",
       "      <td>0</td>\n",
       "      <td>0.1</td>\n",
       "      <td>2.457033</td>\n",
       "      <td>6.037009</td>\n",
       "      <td>1.784518</td>\n",
       "      <td>0.48053</td>\n",
       "    </tr>\n",
       "  </tbody>\n",
       "</table>\n",
       "</div>"
      ],
      "text/plain": [
       "   Factors  Epochs  Init Mean  Init Std  Root MSE       MSE  Mean average sqr  \\\n",
       "0      100      20          0       0.1  2.457033  6.037009          1.784518   \n",
       "\n",
       "   Fraction of Concordant Pairs  \n",
       "0                       0.48053  "
      ]
     },
     "execution_count": 78,
     "metadata": {},
     "output_type": "execute_result"
    }
   ],
   "source": [
    "model1.get_info()"
   ]
  },
  {
   "cell_type": "markdown",
   "metadata": {},
   "source": [
    "## Gridsearch for optimal parameters"
   ]
  },
  {
   "cell_type": "code",
   "execution_count": 79,
   "metadata": {},
   "outputs": [
    {
     "name": "stdout",
     "output_type": "stream",
     "text": [
      "2.451394670011396\n",
      "{'n_epochs': 25, 'lr_all': 0.005, 'reg_all': 0.6}\n",
      "Time  36.458884954452515\n"
     ]
    }
   ],
   "source": [
    "param_grid = {'n_epochs': [15,20,25], 'lr_all': [0.002,0.003, 0.005],\n",
    "              'reg_all': [0.4,0.5,0.6]}\n",
    "model1.Gridsearch(param_grid)"
   ]
  },
  {
   "cell_type": "code",
   "execution_count": 80,
   "metadata": {},
   "outputs": [
    {
     "name": "stdout",
     "output_type": "stream",
     "text": [
      "Time  0.8547792434692383\n"
     ]
    }
   ],
   "source": [
    "model1.fitting(gridsearch=True)"
   ]
  },
  {
   "cell_type": "code",
   "execution_count": 81,
   "metadata": {},
   "outputs": [
    {
     "name": "stdout",
     "output_type": "stream",
     "text": [
      "RMSE: 2.4565\n",
      "MSE: 6.0344\n",
      "MAE:  1.7817\n",
      "FCP:  0.4595\n"
     ]
    },
    {
     "data": {
      "text/html": [
       "<div>\n",
       "<style scoped>\n",
       "    .dataframe tbody tr th:only-of-type {\n",
       "        vertical-align: middle;\n",
       "    }\n",
       "\n",
       "    .dataframe tbody tr th {\n",
       "        vertical-align: top;\n",
       "    }\n",
       "\n",
       "    .dataframe thead th {\n",
       "        text-align: right;\n",
       "    }\n",
       "</style>\n",
       "<table border=\"1\" class=\"dataframe\">\n",
       "  <thead>\n",
       "    <tr style=\"text-align: right;\">\n",
       "      <th></th>\n",
       "      <th>Factors</th>\n",
       "      <th>Epochs</th>\n",
       "      <th>Init Mean</th>\n",
       "      <th>Init Std</th>\n",
       "      <th>Root MSE</th>\n",
       "      <th>MSE</th>\n",
       "      <th>Mean average sqr</th>\n",
       "      <th>Fraction of Concordant Pairs</th>\n",
       "    </tr>\n",
       "  </thead>\n",
       "  <tbody>\n",
       "    <tr>\n",
       "      <th>0</th>\n",
       "      <td>100</td>\n",
       "      <td>25</td>\n",
       "      <td>0</td>\n",
       "      <td>0.1</td>\n",
       "      <td>2.456495</td>\n",
       "      <td>6.034366</td>\n",
       "      <td>1.781676</td>\n",
       "      <td>0.459459</td>\n",
       "    </tr>\n",
       "  </tbody>\n",
       "</table>\n",
       "</div>"
      ],
      "text/plain": [
       "   Factors  Epochs  Init Mean  Init Std  Root MSE       MSE  Mean average sqr  \\\n",
       "0      100      25          0       0.1  2.456495  6.034366          1.781676   \n",
       "\n",
       "   Fraction of Concordant Pairs  \n",
       "0                      0.459459  "
      ]
     },
     "execution_count": 81,
     "metadata": {},
     "output_type": "execute_result"
    }
   ],
   "source": [
    "model1.get_info()"
   ]
  },
  {
   "cell_type": "code",
   "execution_count": 62,
   "metadata": {},
   "outputs": [
    {
     "data": {
      "text/plain": [
       "659904"
      ]
     },
     "execution_count": 62,
     "metadata": {},
     "output_type": "execute_result"
    }
   ],
   "source": [
    "len(ndf)"
   ]
  },
  {
   "cell_type": "code",
   "execution_count": 24,
   "metadata": {},
   "outputs": [
    {
     "data": {
      "image/png": "[encoded data removed]",
      "text/plain": [
       "<Figure size 720x720 with 4 Axes>"
      ]
     },
     "metadata": {
      "needs_background": "light"
     },
     "output_type": "display_data"
    }
   ],
   "source": [
    "model1.plot_atr()"
   ]
  },
  {
   "cell_type": "markdown",
   "metadata": {},
   "source": [
    "## Train the full dataset on optimal parameters and save the model"
   ]
  },
  {
   "cell_type": "code",
   "execution_count": 82,
   "metadata": {},
   "outputs": [],
   "source": [
    "params= model1.gs.best_params['rmse']"
   ]
  },
  {
   "cell_type": "code",
   "execution_count": 83,
   "metadata": {},
   "outputs": [],
   "source": [
    "model2 = SVDbuilder('vanilla')\n",
    "model2.data(ndf,sample=False)\n",
    "model2.builder(params)"
   ]
  },
  {
   "cell_type": "code",
   "execution_count": 84,
   "metadata": {},
   "outputs": [
    {
     "name": "stdout",
     "output_type": "stream",
     "text": [
      "Time  71.3339364528656\n"
     ]
    }
   ],
   "source": [
    "model2.fitting()"
   ]
  },
  {
   "cell_type": "code",
   "execution_count": 85,
   "metadata": {},
   "outputs": [
    {
     "name": "stdout",
     "output_type": "stream",
     "text": [
      "RMSE: 2.1846\n",
      "MSE: 4.7727\n",
      "MAE:  1.4755\n",
      "FCP:  0.5678\n"
     ]
    },
    {
     "data": {
      "text/html": [
       "<div>\n",
       "<style scoped>\n",
       "    .dataframe tbody tr th:only-of-type {\n",
       "        vertical-align: middle;\n",
       "    }\n",
       "\n",
       "    .dataframe tbody tr th {\n",
       "        vertical-align: top;\n",
       "    }\n",
       "\n",
       "    .dataframe thead th {\n",
       "        text-align: right;\n",
       "    }\n",
       "</style>\n",
       "<table border=\"1\" class=\"dataframe\">\n",
       "  <thead>\n",
       "    <tr style=\"text-align: right;\">\n",
       "      <th></th>\n",
       "      <th>Factors</th>\n",
       "      <th>Epochs</th>\n",
       "      <th>Init Mean</th>\n",
       "      <th>Init Std</th>\n",
       "      <th>Root MSE</th>\n",
       "      <th>MSE</th>\n",
       "      <th>Mean average sqr</th>\n",
       "      <th>Fraction of Concordant Pairs</th>\n",
       "    </tr>\n",
       "  </thead>\n",
       "  <tbody>\n",
       "    <tr>\n",
       "      <th>0</th>\n",
       "      <td>100</td>\n",
       "      <td>20</td>\n",
       "      <td>0</td>\n",
       "      <td>0.1</td>\n",
       "      <td>2.184641</td>\n",
       "      <td>4.772655</td>\n",
       "      <td>1.475476</td>\n",
       "      <td>0.567835</td>\n",
       "    </tr>\n",
       "  </tbody>\n",
       "</table>\n",
       "</div>"
      ],
      "text/plain": [
       "   Factors  Epochs  Init Mean  Init Std  Root MSE       MSE  Mean average sqr  \\\n",
       "0      100      20          0       0.1  2.184641  4.772655          1.475476   \n",
       "\n",
       "   Fraction of Concordant Pairs  \n",
       "0                      0.567835  "
      ]
     },
     "execution_count": 85,
     "metadata": {},
     "output_type": "execute_result"
    }
   ],
   "source": [
    "model2.get_info()"
   ]
  },
  {
   "cell_type": "code",
   "execution_count": 17,
   "metadata": {},
   "outputs": [],
   "source": [
    "preds = model2.algo.test(model2.test)"
   ]
  },
  {
   "cell_type": "code",
   "execution_count": 18,
   "metadata": {},
   "outputs": [
    {
     "name": "stdout",
     "output_type": "stream",
     "text": [
      "RMSE: 2.4824\n"
     ]
    },
    {
     "data": {
      "text/plain": [
       "2.4823771003263366"
      ]
     },
     "execution_count": 18,
     "metadata": {},
     "output_type": "execute_result"
    }
   ],
   "source": [
    "from surprise import accuracy\n",
    "from collections import defaultdict\n",
    "accuracy.rmse(preds)"
   ]
  },
  {
   "cell_type": "code",
   "execution_count": 69,
   "metadata": {
    "collapsed": true,
    "jupyter": {
     "outputs_hidden": true
    }
   },
   "outputs": [
    {
     "name": "stdout",
     "output_type": "stream",
     "text": [
      "RMSE: 2.5181\n",
      "MSE: 6.3409\n",
      "MAE:  1.9928\n",
      "FCP:  0.5487\n"
     ]
    },
    {
     "data": {
      "text/html": [
       "<div>\n",
       "<style scoped>\n",
       "    .dataframe tbody tr th:only-of-type {\n",
       "        vertical-align: middle;\n",
       "    }\n",
       "\n",
       "    .dataframe tbody tr th {\n",
       "        vertical-align: top;\n",
       "    }\n",
       "\n",
       "    .dataframe thead th {\n",
       "        text-align: right;\n",
       "    }\n",
       "</style>\n",
       "<table border=\"1\" class=\"dataframe\">\n",
       "  <thead>\n",
       "    <tr style=\"text-align: right;\">\n",
       "      <th></th>\n",
       "      <th>Factors</th>\n",
       "      <th>Epochs</th>\n",
       "      <th>Init Mean</th>\n",
       "      <th>Init Std</th>\n",
       "      <th>Root MSE</th>\n",
       "      <th>MSE</th>\n",
       "      <th>Mean average sqr</th>\n",
       "      <th>Fraction of Concordant Pairs</th>\n",
       "    </tr>\n",
       "  </thead>\n",
       "  <tbody>\n",
       "    <tr>\n",
       "      <th>0</th>\n",
       "      <td>100</td>\n",
       "      <td>20</td>\n",
       "      <td>0</td>\n",
       "      <td>0.1</td>\n",
       "      <td>2.518113</td>\n",
       "      <td>6.340893</td>\n",
       "      <td>1.992823</td>\n",
       "      <td>0.548703</td>\n",
       "    </tr>\n",
       "  </tbody>\n",
       "</table>\n",
       "</div>"
      ],
      "text/plain": [
       "   Factors  Epochs  Init Mean  Init Std  Root MSE       MSE  Mean average sqr  \\\n",
       "0      100      20          0       0.1  2.518113  6.340893          1.992823   \n",
       "\n",
       "   Fraction of Concordant Pairs  \n",
       "0                      0.548703  "
      ]
     },
     "execution_count": 69,
     "metadata": {},
     "output_type": "execute_result"
    }
   ],
   "source": [
    "model2.get_info()"
   ]
  },
  {
   "cell_type": "code",
   "execution_count": 86,
   "metadata": {},
   "outputs": [],
   "source": [
    "trainset =model2.algo.trainset"
   ]
  },
  {
   "cell_type": "code",
   "execution_count": 89,
   "metadata": {},
   "outputs": [],
   "source": [
    "def get_Iu(uid):\n",
    "    \"\"\" return the number of items rated by given user\n",
    "    args: \n",
    "      uid: the id of the user\n",
    "    returns: \n",
    "      the number of items rated by the user\n",
    "    \"\"\"\n",
    "    try:\n",
    "        return len(trainset.ur[trainset.to_inner_uid(uid)])\n",
    "    except ValueError: # user was not part of the trainset\n",
    "        return 0\n",
    "    \n",
    "def get_Ui(iid):\n",
    "    \"\"\" return number of users that have rated given item\n",
    "    args:\n",
    "      iid: the raw id of the item\n",
    "    returns:\n",
    "      the number of users that have rated the item.\n",
    "    \"\"\"\n",
    "    try: \n",
    "        return len(trainset.ir[trainset.to_inner_iid(iid)])\n",
    "    except ValueError:\n",
    "        return 0\n",
    "    \n",
    "df1 = pd.DataFrame(preds, columns=['uid', 'iid', 'rui', 'est', 'details'])\n",
    "df1['Iu'] = df1.uid.apply(get_Iu)\n",
    "df1['Ui'] = df1.iid.apply(get_Ui)\n",
    "df1['err'] = abs(df1.est - df1.rui)\n"
   ]
  },
  {
   "cell_type": "code",
   "execution_count": 120,
   "metadata": {},
   "outputs": [
    {
     "data": {
      "text/html": [
       "<div>\n",
       "<style scoped>\n",
       "    .dataframe tbody tr th:only-of-type {\n",
       "        vertical-align: middle;\n",
       "    }\n",
       "\n",
       "    .dataframe tbody tr th {\n",
       "        vertical-align: top;\n",
       "    }\n",
       "\n",
       "    .dataframe thead th {\n",
       "        text-align: right;\n",
       "    }\n",
       "</style>\n",
       "<table border=\"1\" class=\"dataframe\">\n",
       "  <thead>\n",
       "    <tr style=\"text-align: right;\">\n",
       "      <th></th>\n",
       "      <th>uid</th>\n",
       "      <th>iid</th>\n",
       "      <th>rui</th>\n",
       "      <th>est</th>\n",
       "      <th>details</th>\n",
       "      <th>Iu</th>\n",
       "      <th>Ui</th>\n",
       "      <th>err</th>\n",
       "    </tr>\n",
       "  </thead>\n",
       "  <tbody>\n",
       "    <tr>\n",
       "      <th>0</th>\n",
       "      <td>4916d6f17cfa295f26c048b590621b8f33873a93</td>\n",
       "      <td>spotify:track:7eM88DF4yL4hpNnB6oJLnD</td>\n",
       "      <td>7.0</td>\n",
       "      <td>3.782364</td>\n",
       "      <td>{'was_impossible': False}</td>\n",
       "      <td>8</td>\n",
       "      <td>46</td>\n",
       "      <td>3.217636</td>\n",
       "    </tr>\n",
       "    <tr>\n",
       "      <th>1</th>\n",
       "      <td>6f74b021cce5a9ee7a455e7f0ef4802bf498a23b</td>\n",
       "      <td>spotify:track:1Jx69b09LKTuBQxkEiFfVX</td>\n",
       "      <td>2.0</td>\n",
       "      <td>4.194529</td>\n",
       "      <td>{'was_impossible': False}</td>\n",
       "      <td>47</td>\n",
       "      <td>88</td>\n",
       "      <td>2.194529</td>\n",
       "    </tr>\n",
       "    <tr>\n",
       "      <th>2</th>\n",
       "      <td>b1d8c13e91a65c10dc1b849b50e85a621af967a3</td>\n",
       "      <td>spotify:track:0E56lu4IOGOhygjIPC2r1r</td>\n",
       "      <td>10.0</td>\n",
       "      <td>4.180888</td>\n",
       "      <td>{'was_impossible': False}</td>\n",
       "      <td>42</td>\n",
       "      <td>999</td>\n",
       "      <td>5.819112</td>\n",
       "    </tr>\n",
       "    <tr>\n",
       "      <th>3</th>\n",
       "      <td>5eac3949f62154f58867e68259c1deeb74c17003</td>\n",
       "      <td>spotify:track:3pEG4UmUXDLikXR0kWuNJH</td>\n",
       "      <td>6.0</td>\n",
       "      <td>3.170929</td>\n",
       "      <td>{'was_impossible': False}</td>\n",
       "      <td>14</td>\n",
       "      <td>113</td>\n",
       "      <td>2.829071</td>\n",
       "    </tr>\n",
       "    <tr>\n",
       "      <th>4</th>\n",
       "      <td>f5d1809812524991f107d871319cc9ef171c4a28</td>\n",
       "      <td>spotify:track:2tP2rytUFVm6lhCznfLbv6</td>\n",
       "      <td>8.0</td>\n",
       "      <td>5.352406</td>\n",
       "      <td>{'was_impossible': False}</td>\n",
       "      <td>22</td>\n",
       "      <td>179</td>\n",
       "      <td>2.647594</td>\n",
       "    </tr>\n",
       "  </tbody>\n",
       "</table>\n",
       "</div>"
      ],
      "text/plain": [
       "                                        uid  \\\n",
       "0  4916d6f17cfa295f26c048b590621b8f33873a93   \n",
       "1  6f74b021cce5a9ee7a455e7f0ef4802bf498a23b   \n",
       "2  b1d8c13e91a65c10dc1b849b50e85a621af967a3   \n",
       "3  5eac3949f62154f58867e68259c1deeb74c17003   \n",
       "4  f5d1809812524991f107d871319cc9ef171c4a28   \n",
       "\n",
       "                                    iid   rui       est  \\\n",
       "0  spotify:track:7eM88DF4yL4hpNnB6oJLnD   7.0  3.782364   \n",
       "1  spotify:track:1Jx69b09LKTuBQxkEiFfVX   2.0  4.194529   \n",
       "2  spotify:track:0E56lu4IOGOhygjIPC2r1r  10.0  4.180888   \n",
       "3  spotify:track:3pEG4UmUXDLikXR0kWuNJH   6.0  3.170929   \n",
       "4  spotify:track:2tP2rytUFVm6lhCznfLbv6   8.0  5.352406   \n",
       "\n",
       "                     details  Iu   Ui       err  \n",
       "0  {'was_impossible': False}   8   46  3.217636  \n",
       "1  {'was_impossible': False}  47   88  2.194529  \n",
       "2  {'was_impossible': False}  42  999  5.819112  \n",
       "3  {'was_impossible': False}  14  113  2.829071  \n",
       "4  {'was_impossible': False}  22  179  2.647594  "
      ]
     },
     "execution_count": 120,
     "metadata": {},
     "output_type": "execute_result"
    }
   ],
   "source": [
    "df1.head()"
   ]
  },
  {
   "cell_type": "code",
   "execution_count": 90,
   "metadata": {},
   "outputs": [],
   "source": [
    "best_predictions2 = df1.sort_values(by='err')[:10].copy()\n",
    "worst_predictions2 = df1.sort_values(by='err')[-10:].copy()"
   ]
  },
  {
   "cell_type": "code",
   "execution_count": 22,
   "metadata": {},
   "outputs": [
    {
     "data": {
      "text/html": [
       "<div>\n",
       "<style scoped>\n",
       "    .dataframe tbody tr th:only-of-type {\n",
       "        vertical-align: middle;\n",
       "    }\n",
       "\n",
       "    .dataframe tbody tr th {\n",
       "        vertical-align: top;\n",
       "    }\n",
       "\n",
       "    .dataframe thead th {\n",
       "        text-align: right;\n",
       "    }\n",
       "</style>\n",
       "<table border=\"1\" class=\"dataframe\">\n",
       "  <thead>\n",
       "    <tr style=\"text-align: right;\">\n",
       "      <th></th>\n",
       "      <th>uid</th>\n",
       "      <th>iid</th>\n",
       "      <th>rui</th>\n",
       "      <th>est</th>\n",
       "      <th>details</th>\n",
       "      <th>Iu</th>\n",
       "      <th>Ui</th>\n",
       "      <th>err</th>\n",
       "    </tr>\n",
       "  </thead>\n",
       "  <tbody>\n",
       "    <tr>\n",
       "      <th>16328</th>\n",
       "      <td>9ea3eafa48e73855fdecc165d3dc29dab64cbb46</td>\n",
       "      <td>spotify:track:5j6LS93cEIPNvkLZzAl1eK</td>\n",
       "      <td>10.0</td>\n",
       "      <td>10.0</td>\n",
       "      <td>{'was_impossible': False}</td>\n",
       "      <td>27</td>\n",
       "      <td>49</td>\n",
       "      <td>0.0</td>\n",
       "    </tr>\n",
       "    <tr>\n",
       "      <th>95201</th>\n",
       "      <td>4c6426c9c734c23ec0c35154437fc132b862068c</td>\n",
       "      <td>spotify:track:2kSJrtoGIJ6u0L9OvKLJQJ</td>\n",
       "      <td>10.0</td>\n",
       "      <td>10.0</td>\n",
       "      <td>{'was_impossible': False}</td>\n",
       "      <td>34</td>\n",
       "      <td>46</td>\n",
       "      <td>0.0</td>\n",
       "    </tr>\n",
       "    <tr>\n",
       "      <th>95091</th>\n",
       "      <td>d4c56211650ea452bff8377c69d380ddb4d705bb</td>\n",
       "      <td>spotify:track:0bTlXQJzw4ddaLQPJ4rGS2</td>\n",
       "      <td>10.0</td>\n",
       "      <td>10.0</td>\n",
       "      <td>{'was_impossible': False}</td>\n",
       "      <td>59</td>\n",
       "      <td>2240</td>\n",
       "      <td>0.0</td>\n",
       "    </tr>\n",
       "    <tr>\n",
       "      <th>139977</th>\n",
       "      <td>a5f2de267eb3f3ed05ca7203f6b230a9e6805a14</td>\n",
       "      <td>spotify:track:75JFxkI2RXiU7L9VXzMkle</td>\n",
       "      <td>10.0</td>\n",
       "      <td>10.0</td>\n",
       "      <td>{'was_impossible': False}</td>\n",
       "      <td>28</td>\n",
       "      <td>1171</td>\n",
       "      <td>0.0</td>\n",
       "    </tr>\n",
       "    <tr>\n",
       "      <th>65714</th>\n",
       "      <td>4e0b1f81b5201b8e46859b49dd71ab945366d40d</td>\n",
       "      <td>spotify:track:2XMywzsDdvIYO1WZYltvci</td>\n",
       "      <td>10.0</td>\n",
       "      <td>10.0</td>\n",
       "      <td>{'was_impossible': False}</td>\n",
       "      <td>30</td>\n",
       "      <td>104</td>\n",
       "      <td>0.0</td>\n",
       "    </tr>\n",
       "    <tr>\n",
       "      <th>99648</th>\n",
       "      <td>b769e88d29aa4cd307dba66407ed54260a227a3b</td>\n",
       "      <td>spotify:track:5Mv6UlwDRX7eIUmWj5BA0q</td>\n",
       "      <td>10.0</td>\n",
       "      <td>10.0</td>\n",
       "      <td>{'was_impossible': False}</td>\n",
       "      <td>55</td>\n",
       "      <td>41</td>\n",
       "      <td>0.0</td>\n",
       "    </tr>\n",
       "    <tr>\n",
       "      <th>109198</th>\n",
       "      <td>21fe97e9f2fd4aa4cd11db08c9683f5bb910b66b</td>\n",
       "      <td>spotify:track:71cYkGMbhkWXHkvc8VZ8ps</td>\n",
       "      <td>10.0</td>\n",
       "      <td>10.0</td>\n",
       "      <td>{'was_impossible': False}</td>\n",
       "      <td>41</td>\n",
       "      <td>943</td>\n",
       "      <td>0.0</td>\n",
       "    </tr>\n",
       "    <tr>\n",
       "      <th>108821</th>\n",
       "      <td>a515ac8b40e82b0b7ad9191c5440319a848f9612</td>\n",
       "      <td>spotify:track:4w8bpxe4Qqy07Bzpuwc9SF</td>\n",
       "      <td>10.0</td>\n",
       "      <td>10.0</td>\n",
       "      <td>{'was_impossible': False}</td>\n",
       "      <td>22</td>\n",
       "      <td>173</td>\n",
       "      <td>0.0</td>\n",
       "    </tr>\n",
       "    <tr>\n",
       "      <th>99433</th>\n",
       "      <td>abaf265b7dc7d19732cde4e55e04a1ae65514e03</td>\n",
       "      <td>spotify:track:5itKmzRJnapQRAfoqXAuSp</td>\n",
       "      <td>10.0</td>\n",
       "      <td>10.0</td>\n",
       "      <td>{'was_impossible': False}</td>\n",
       "      <td>60</td>\n",
       "      <td>391</td>\n",
       "      <td>0.0</td>\n",
       "    </tr>\n",
       "    <tr>\n",
       "      <th>122744</th>\n",
       "      <td>46474cad92820165fa5a866b708df6e26f1e8eda</td>\n",
       "      <td>spotify:track:4WM22pqXRZkcdrp7alhjsv</td>\n",
       "      <td>10.0</td>\n",
       "      <td>10.0</td>\n",
       "      <td>{'was_impossible': False}</td>\n",
       "      <td>21</td>\n",
       "      <td>389</td>\n",
       "      <td>0.0</td>\n",
       "    </tr>\n",
       "  </tbody>\n",
       "</table>\n",
       "</div>"
      ],
      "text/plain": [
       "                                             uid  \\\n",
       "16328   9ea3eafa48e73855fdecc165d3dc29dab64cbb46   \n",
       "95201   4c6426c9c734c23ec0c35154437fc132b862068c   \n",
       "95091   d4c56211650ea452bff8377c69d380ddb4d705bb   \n",
       "139977  a5f2de267eb3f3ed05ca7203f6b230a9e6805a14   \n",
       "65714   4e0b1f81b5201b8e46859b49dd71ab945366d40d   \n",
       "99648   b769e88d29aa4cd307dba66407ed54260a227a3b   \n",
       "109198  21fe97e9f2fd4aa4cd11db08c9683f5bb910b66b   \n",
       "108821  a515ac8b40e82b0b7ad9191c5440319a848f9612   \n",
       "99433   abaf265b7dc7d19732cde4e55e04a1ae65514e03   \n",
       "122744  46474cad92820165fa5a866b708df6e26f1e8eda   \n",
       "\n",
       "                                         iid   rui   est  \\\n",
       "16328   spotify:track:5j6LS93cEIPNvkLZzAl1eK  10.0  10.0   \n",
       "95201   spotify:track:2kSJrtoGIJ6u0L9OvKLJQJ  10.0  10.0   \n",
       "95091   spotify:track:0bTlXQJzw4ddaLQPJ4rGS2  10.0  10.0   \n",
       "139977  spotify:track:75JFxkI2RXiU7L9VXzMkle  10.0  10.0   \n",
       "65714   spotify:track:2XMywzsDdvIYO1WZYltvci  10.0  10.0   \n",
       "99648   spotify:track:5Mv6UlwDRX7eIUmWj5BA0q  10.0  10.0   \n",
       "109198  spotify:track:71cYkGMbhkWXHkvc8VZ8ps  10.0  10.0   \n",
       "108821  spotify:track:4w8bpxe4Qqy07Bzpuwc9SF  10.0  10.0   \n",
       "99433   spotify:track:5itKmzRJnapQRAfoqXAuSp  10.0  10.0   \n",
       "122744  spotify:track:4WM22pqXRZkcdrp7alhjsv  10.0  10.0   \n",
       "\n",
       "                          details  Iu    Ui  err  \n",
       "16328   {'was_impossible': False}  27    49  0.0  \n",
       "95201   {'was_impossible': False}  34    46  0.0  \n",
       "95091   {'was_impossible': False}  59  2240  0.0  \n",
       "139977  {'was_impossible': False}  28  1171  0.0  \n",
       "65714   {'was_impossible': False}  30   104  0.0  \n",
       "99648   {'was_impossible': False}  55    41  0.0  \n",
       "109198  {'was_impossible': False}  41   943  0.0  \n",
       "108821  {'was_impossible': False}  22   173  0.0  \n",
       "99433   {'was_impossible': False}  60   391  0.0  \n",
       "122744  {'was_impossible': False}  21   389  0.0  "
      ]
     },
     "execution_count": 22,
     "metadata": {},
     "output_type": "execute_result"
    }
   ],
   "source": [
    "best_predictions1.to_csv('best_pred_CB_2_10.csv')\n",
    "best_predictions1"
   ]
  },
  {
   "cell_type": "code",
   "execution_count": 92,
   "metadata": {},
   "outputs": [],
   "source": []
  },
  {
   "cell_type": "code",
   "execution_count": 93,
   "metadata": {},
   "outputs": [],
   "source": [
    "from collections import Counter\n",
    "def user_plot(iid,title,name=None,save=False):\n",
    "    \n",
    "    counter = Counter([r for (_, r) in trainset.ir[trainset.to_inner_iid(iid)]])\n",
    "    x = pd.DataFrame.from_dict(\n",
    "    counter, orient='index')\n",
    "    x.reset_index(drop=False,inplace=True)\n",
    "    x.sort_values(by='index',inplace=True)\n",
    "    x.set_index('index',inplace=True)\n",
    "    #x = pd.DataFrame.from_dict(\n",
    "     #   counter, orient='index').plot(kind='bar', legend=False)\n",
    "    x.plot(kind='bar',legend=False)\n",
    "    #plt.bar(x)\n",
    "    plt.xlabel('Rating value')\n",
    "    plt.ylabel('Number of users')\n",
    "    plt.title(f'Users listening patterns: {title}')\n",
    "    if save:\n",
    "        plt.savefig(rf'plots\\{name}_CF_pr1.png')"
   ]
  },
  {
   "cell_type": "code",
   "execution_count": 59,
   "metadata": {},
   "outputs": [
    {
     "data": {
      "image/png": "[encoded data removed]",
      "text/plain": [
       "<Figure size 432x288 with 1 Axes>"
      ]
     },
     "metadata": {
      "needs_background": "light"
     },
     "output_type": "display_data"
    }
   ],
   "source": [
    "iid='spotify:track:5j6LS93cEIPNvkLZzAl1eK'\n",
    "title='Wot - Captain Sensible'\n",
    "user_plot(iid=iid,name='best',title=title,save=True)"
   ]
  },
  {
   "cell_type": "code",
   "execution_count": 60,
   "metadata": {},
   "outputs": [
    {
     "data": {
      "image/png": "[encoded data removed]",
      "text/plain": [
       "<Figure size 432x288 with 1 Axes>"
      ]
     },
     "metadata": {
      "needs_background": "light"
     },
     "output_type": "display_data"
    }
   ],
   "source": [
    "iid2='spotify:track:0jv5OcbvTUHgO8FgHhya8b'\n",
    "user_plot(iid=iid2,name='worst',title='Kiss With a Fist- Florence+ The Machine',save=True)"
   ]
  },
  {
   "cell_type": "code",
   "execution_count": 23,
   "metadata": {},
   "outputs": [
    {
     "data": {
      "text/html": [
       "<div>\n",
       "<style scoped>\n",
       "    .dataframe tbody tr th:only-of-type {\n",
       "        vertical-align: middle;\n",
       "    }\n",
       "\n",
       "    .dataframe tbody tr th {\n",
       "        vertical-align: top;\n",
       "    }\n",
       "\n",
       "    .dataframe thead th {\n",
       "        text-align: right;\n",
       "    }\n",
       "</style>\n",
       "<table border=\"1\" class=\"dataframe\">\n",
       "  <thead>\n",
       "    <tr style=\"text-align: right;\">\n",
       "      <th></th>\n",
       "      <th>uid</th>\n",
       "      <th>iid</th>\n",
       "      <th>rui</th>\n",
       "      <th>est</th>\n",
       "      <th>details</th>\n",
       "      <th>Iu</th>\n",
       "      <th>Ui</th>\n",
       "      <th>err</th>\n",
       "    </tr>\n",
       "  </thead>\n",
       "  <tbody>\n",
       "    <tr>\n",
       "      <th>19798</th>\n",
       "      <td>15c7d74a3c1afa2110591713283efa0bbe14c2e9</td>\n",
       "      <td>spotify:track:0jv5OcbvTUHgO8FgHhya8b</td>\n",
       "      <td>10.0</td>\n",
       "      <td>1.463539</td>\n",
       "      <td>{'was_impossible': False}</td>\n",
       "      <td>30</td>\n",
       "      <td>477</td>\n",
       "      <td>8.536461</td>\n",
       "    </tr>\n",
       "    <tr>\n",
       "      <th>28484</th>\n",
       "      <td>1aa4fd215aadb160965110ed8a829745cde319eb</td>\n",
       "      <td>spotify:track:793jTClDbqmxFme8QUl0JE</td>\n",
       "      <td>10.0</td>\n",
       "      <td>1.458685</td>\n",
       "      <td>{'was_impossible': False}</td>\n",
       "      <td>171</td>\n",
       "      <td>110</td>\n",
       "      <td>8.541315</td>\n",
       "    </tr>\n",
       "    <tr>\n",
       "      <th>14337</th>\n",
       "      <td>7a7dc4aec09a72c616d04da1d6944cd392ee68de</td>\n",
       "      <td>spotify:track:0COqiPhxzoWICwFCS4eZcp</td>\n",
       "      <td>10.0</td>\n",
       "      <td>1.414952</td>\n",
       "      <td>{'was_impossible': False}</td>\n",
       "      <td>71</td>\n",
       "      <td>653</td>\n",
       "      <td>8.585048</td>\n",
       "    </tr>\n",
       "    <tr>\n",
       "      <th>89351</th>\n",
       "      <td>55aec6fdfa7eae657f91f5941a1bb6a12b9dc023</td>\n",
       "      <td>spotify:track:4vp2J1l5RD4gMZwGFLfRAu</td>\n",
       "      <td>10.0</td>\n",
       "      <td>1.397227</td>\n",
       "      <td>{'was_impossible': False}</td>\n",
       "      <td>40</td>\n",
       "      <td>777</td>\n",
       "      <td>8.602773</td>\n",
       "    </tr>\n",
       "    <tr>\n",
       "      <th>131386</th>\n",
       "      <td>870f1779c978274f4ab14ea139a79695c897baea</td>\n",
       "      <td>spotify:track:2ffmPvnKZQqAOAEUo5Klpu</td>\n",
       "      <td>10.0</td>\n",
       "      <td>1.344526</td>\n",
       "      <td>{'was_impossible': False}</td>\n",
       "      <td>52</td>\n",
       "      <td>1177</td>\n",
       "      <td>8.655474</td>\n",
       "    </tr>\n",
       "    <tr>\n",
       "      <th>121663</th>\n",
       "      <td>6a9cf03dfb2fc82f5b3b043c9c3fdbab997fd54d</td>\n",
       "      <td>spotify:track:5mSVJjVzZEoVrg6amF8udl</td>\n",
       "      <td>10.0</td>\n",
       "      <td>1.344082</td>\n",
       "      <td>{'was_impossible': False}</td>\n",
       "      <td>201</td>\n",
       "      <td>79</td>\n",
       "      <td>8.655918</td>\n",
       "    </tr>\n",
       "    <tr>\n",
       "      <th>21167</th>\n",
       "      <td>51a95eaf5e69b1ca8e416ceff9c1a1cec995fc1c</td>\n",
       "      <td>spotify:track:11IzgLRXV7Cgek3tEgGgjw</td>\n",
       "      <td>10.0</td>\n",
       "      <td>1.328270</td>\n",
       "      <td>{'was_impossible': False}</td>\n",
       "      <td>43</td>\n",
       "      <td>332</td>\n",
       "      <td>8.671730</td>\n",
       "    </tr>\n",
       "    <tr>\n",
       "      <th>90817</th>\n",
       "      <td>6f1702dd4bdfa1f7aace6064ca75d5921f993767</td>\n",
       "      <td>spotify:track:3rGgubo6wsk2X59XMYnZL6</td>\n",
       "      <td>10.0</td>\n",
       "      <td>1.302073</td>\n",
       "      <td>{'was_impossible': False}</td>\n",
       "      <td>116</td>\n",
       "      <td>130</td>\n",
       "      <td>8.697927</td>\n",
       "    </tr>\n",
       "    <tr>\n",
       "      <th>29992</th>\n",
       "      <td>1f2f182fde1f4bc8d2262639c51be73b5d8555b1</td>\n",
       "      <td>spotify:track:4lwavw59UjXUPJZtKNdFYp</td>\n",
       "      <td>10.0</td>\n",
       "      <td>1.008608</td>\n",
       "      <td>{'was_impossible': False}</td>\n",
       "      <td>18</td>\n",
       "      <td>959</td>\n",
       "      <td>8.991392</td>\n",
       "    </tr>\n",
       "    <tr>\n",
       "      <th>98547</th>\n",
       "      <td>6a9cf03dfb2fc82f5b3b043c9c3fdbab997fd54d</td>\n",
       "      <td>spotify:track:0nCAVzknkzRXRgB6LhRv04</td>\n",
       "      <td>10.0</td>\n",
       "      <td>1.000000</td>\n",
       "      <td>{'was_impossible': False}</td>\n",
       "      <td>201</td>\n",
       "      <td>164</td>\n",
       "      <td>9.000000</td>\n",
       "    </tr>\n",
       "  </tbody>\n",
       "</table>\n",
       "</div>"
      ],
      "text/plain": [
       "                                             uid  \\\n",
       "19798   15c7d74a3c1afa2110591713283efa0bbe14c2e9   \n",
       "28484   1aa4fd215aadb160965110ed8a829745cde319eb   \n",
       "14337   7a7dc4aec09a72c616d04da1d6944cd392ee68de   \n",
       "89351   55aec6fdfa7eae657f91f5941a1bb6a12b9dc023   \n",
       "131386  870f1779c978274f4ab14ea139a79695c897baea   \n",
       "121663  6a9cf03dfb2fc82f5b3b043c9c3fdbab997fd54d   \n",
       "21167   51a95eaf5e69b1ca8e416ceff9c1a1cec995fc1c   \n",
       "90817   6f1702dd4bdfa1f7aace6064ca75d5921f993767   \n",
       "29992   1f2f182fde1f4bc8d2262639c51be73b5d8555b1   \n",
       "98547   6a9cf03dfb2fc82f5b3b043c9c3fdbab997fd54d   \n",
       "\n",
       "                                         iid   rui       est  \\\n",
       "19798   spotify:track:0jv5OcbvTUHgO8FgHhya8b  10.0  1.463539   \n",
       "28484   spotify:track:793jTClDbqmxFme8QUl0JE  10.0  1.458685   \n",
       "14337   spotify:track:0COqiPhxzoWICwFCS4eZcp  10.0  1.414952   \n",
       "89351   spotify:track:4vp2J1l5RD4gMZwGFLfRAu  10.0  1.397227   \n",
       "131386  spotify:track:2ffmPvnKZQqAOAEUo5Klpu  10.0  1.344526   \n",
       "121663  spotify:track:5mSVJjVzZEoVrg6amF8udl  10.0  1.344082   \n",
       "21167   spotify:track:11IzgLRXV7Cgek3tEgGgjw  10.0  1.328270   \n",
       "90817   spotify:track:3rGgubo6wsk2X59XMYnZL6  10.0  1.302073   \n",
       "29992   spotify:track:4lwavw59UjXUPJZtKNdFYp  10.0  1.008608   \n",
       "98547   spotify:track:0nCAVzknkzRXRgB6LhRv04  10.0  1.000000   \n",
       "\n",
       "                          details   Iu    Ui       err  \n",
       "19798   {'was_impossible': False}   30   477  8.536461  \n",
       "28484   {'was_impossible': False}  171   110  8.541315  \n",
       "14337   {'was_impossible': False}   71   653  8.585048  \n",
       "89351   {'was_impossible': False}   40   777  8.602773  \n",
       "131386  {'was_impossible': False}   52  1177  8.655474  \n",
       "121663  {'was_impossible': False}  201    79  8.655918  \n",
       "21167   {'was_impossible': False}   43   332  8.671730  \n",
       "90817   {'was_impossible': False}  116   130  8.697927  \n",
       "29992   {'was_impossible': False}   18   959  8.991392  \n",
       "98547   {'was_impossible': False}  201   164  9.000000  "
      ]
     },
     "execution_count": 23,
     "metadata": {},
     "output_type": "execute_result"
    }
   ],
   "source": [
    "worst_predictions1.to_csv('worst_CD_2_10.csv')\n",
    "worst_predictions1"
   ]
  },
  {
   "cell_type": "code",
   "execution_count": null,
   "metadata": {},
   "outputs": [],
   "source": [
    "titles= ndf[['ids','title']].copy()\n",
    "titles.rename(columns={'ids':'iid'},inplace=True)\n",
    "best_predictions2.iid"
   ]
  },
  {
   "cell_type": "code",
   "execution_count": 99,
   "metadata": {},
   "outputs": [
    {
     "data": {
      "text/html": [
       "<div>\n",
       "<style scoped>\n",
       "    .dataframe tbody tr th:only-of-type {\n",
       "        vertical-align: middle;\n",
       "    }\n",
       "\n",
       "    .dataframe tbody tr th {\n",
       "        vertical-align: top;\n",
       "    }\n",
       "\n",
       "    .dataframe thead th {\n",
       "        text-align: right;\n",
       "    }\n",
       "</style>\n",
       "<table border=\"1\" class=\"dataframe\">\n",
       "  <thead>\n",
       "    <tr style=\"text-align: right;\">\n",
       "      <th></th>\n",
       "      <th>uid</th>\n",
       "      <th>iid</th>\n",
       "      <th>rui</th>\n",
       "      <th>est</th>\n",
       "      <th>details</th>\n",
       "      <th>Iu</th>\n",
       "      <th>Ui</th>\n",
       "      <th>err</th>\n",
       "    </tr>\n",
       "  </thead>\n",
       "  <tbody>\n",
       "    <tr>\n",
       "      <th>16328</th>\n",
       "      <td>9ea3eafa48e73855fdecc165d3dc29dab64cbb46</td>\n",
       "      <td>spotify:track:5j6LS93cEIPNvkLZzAl1eK</td>\n",
       "      <td>10.0</td>\n",
       "      <td>10.0</td>\n",
       "      <td>{'was_impossible': False}</td>\n",
       "      <td>29</td>\n",
       "      <td>96</td>\n",
       "      <td>0.0</td>\n",
       "    </tr>\n",
       "    <tr>\n",
       "      <th>95201</th>\n",
       "      <td>4c6426c9c734c23ec0c35154437fc132b862068c</td>\n",
       "      <td>spotify:track:2kSJrtoGIJ6u0L9OvKLJQJ</td>\n",
       "      <td>10.0</td>\n",
       "      <td>10.0</td>\n",
       "      <td>{'was_impossible': False}</td>\n",
       "      <td>48</td>\n",
       "      <td>63</td>\n",
       "      <td>0.0</td>\n",
       "    </tr>\n",
       "    <tr>\n",
       "      <th>95091</th>\n",
       "      <td>d4c56211650ea452bff8377c69d380ddb4d705bb</td>\n",
       "      <td>spotify:track:0bTlXQJzw4ddaLQPJ4rGS2</td>\n",
       "      <td>10.0</td>\n",
       "      <td>10.0</td>\n",
       "      <td>{'was_impossible': False}</td>\n",
       "      <td>87</td>\n",
       "      <td>3524</td>\n",
       "      <td>0.0</td>\n",
       "    </tr>\n",
       "    <tr>\n",
       "      <th>139977</th>\n",
       "      <td>a5f2de267eb3f3ed05ca7203f6b230a9e6805a14</td>\n",
       "      <td>spotify:track:75JFxkI2RXiU7L9VXzMkle</td>\n",
       "      <td>10.0</td>\n",
       "      <td>10.0</td>\n",
       "      <td>{'was_impossible': False}</td>\n",
       "      <td>34</td>\n",
       "      <td>2591</td>\n",
       "      <td>0.0</td>\n",
       "    </tr>\n",
       "    <tr>\n",
       "      <th>65714</th>\n",
       "      <td>4e0b1f81b5201b8e46859b49dd71ab945366d40d</td>\n",
       "      <td>spotify:track:2XMywzsDdvIYO1WZYltvci</td>\n",
       "      <td>10.0</td>\n",
       "      <td>10.0</td>\n",
       "      <td>{'was_impossible': False}</td>\n",
       "      <td>37</td>\n",
       "      <td>156</td>\n",
       "      <td>0.0</td>\n",
       "    </tr>\n",
       "    <tr>\n",
       "      <th>99648</th>\n",
       "      <td>b769e88d29aa4cd307dba66407ed54260a227a3b</td>\n",
       "      <td>spotify:track:5Mv6UlwDRX7eIUmWj5BA0q</td>\n",
       "      <td>10.0</td>\n",
       "      <td>10.0</td>\n",
       "      <td>{'was_impossible': False}</td>\n",
       "      <td>58</td>\n",
       "      <td>63</td>\n",
       "      <td>0.0</td>\n",
       "    </tr>\n",
       "    <tr>\n",
       "      <th>109198</th>\n",
       "      <td>21fe97e9f2fd4aa4cd11db08c9683f5bb910b66b</td>\n",
       "      <td>spotify:track:71cYkGMbhkWXHkvc8VZ8ps</td>\n",
       "      <td>10.0</td>\n",
       "      <td>10.0</td>\n",
       "      <td>{'was_impossible': False}</td>\n",
       "      <td>53</td>\n",
       "      <td>1976</td>\n",
       "      <td>0.0</td>\n",
       "    </tr>\n",
       "    <tr>\n",
       "      <th>108821</th>\n",
       "      <td>a515ac8b40e82b0b7ad9191c5440319a848f9612</td>\n",
       "      <td>spotify:track:4w8bpxe4Qqy07Bzpuwc9SF</td>\n",
       "      <td>10.0</td>\n",
       "      <td>10.0</td>\n",
       "      <td>{'was_impossible': False}</td>\n",
       "      <td>32</td>\n",
       "      <td>290</td>\n",
       "      <td>0.0</td>\n",
       "    </tr>\n",
       "    <tr>\n",
       "      <th>99433</th>\n",
       "      <td>abaf265b7dc7d19732cde4e55e04a1ae65514e03</td>\n",
       "      <td>spotify:track:5itKmzRJnapQRAfoqXAuSp</td>\n",
       "      <td>10.0</td>\n",
       "      <td>10.0</td>\n",
       "      <td>{'was_impossible': False}</td>\n",
       "      <td>62</td>\n",
       "      <td>877</td>\n",
       "      <td>0.0</td>\n",
       "    </tr>\n",
       "    <tr>\n",
       "      <th>122744</th>\n",
       "      <td>46474cad92820165fa5a866b708df6e26f1e8eda</td>\n",
       "      <td>spotify:track:4WM22pqXRZkcdrp7alhjsv</td>\n",
       "      <td>10.0</td>\n",
       "      <td>10.0</td>\n",
       "      <td>{'was_impossible': False}</td>\n",
       "      <td>29</td>\n",
       "      <td>896</td>\n",
       "      <td>0.0</td>\n",
       "    </tr>\n",
       "  </tbody>\n",
       "</table>\n",
       "</div>"
      ],
      "text/plain": [
       "                                             uid  \\\n",
       "16328   9ea3eafa48e73855fdecc165d3dc29dab64cbb46   \n",
       "95201   4c6426c9c734c23ec0c35154437fc132b862068c   \n",
       "95091   d4c56211650ea452bff8377c69d380ddb4d705bb   \n",
       "139977  a5f2de267eb3f3ed05ca7203f6b230a9e6805a14   \n",
       "65714   4e0b1f81b5201b8e46859b49dd71ab945366d40d   \n",
       "99648   b769e88d29aa4cd307dba66407ed54260a227a3b   \n",
       "109198  21fe97e9f2fd4aa4cd11db08c9683f5bb910b66b   \n",
       "108821  a515ac8b40e82b0b7ad9191c5440319a848f9612   \n",
       "99433   abaf265b7dc7d19732cde4e55e04a1ae65514e03   \n",
       "122744  46474cad92820165fa5a866b708df6e26f1e8eda   \n",
       "\n",
       "                                         iid   rui   est  \\\n",
       "16328   spotify:track:5j6LS93cEIPNvkLZzAl1eK  10.0  10.0   \n",
       "95201   spotify:track:2kSJrtoGIJ6u0L9OvKLJQJ  10.0  10.0   \n",
       "95091   spotify:track:0bTlXQJzw4ddaLQPJ4rGS2  10.0  10.0   \n",
       "139977  spotify:track:75JFxkI2RXiU7L9VXzMkle  10.0  10.0   \n",
       "65714   spotify:track:2XMywzsDdvIYO1WZYltvci  10.0  10.0   \n",
       "99648   spotify:track:5Mv6UlwDRX7eIUmWj5BA0q  10.0  10.0   \n",
       "109198  spotify:track:71cYkGMbhkWXHkvc8VZ8ps  10.0  10.0   \n",
       "108821  spotify:track:4w8bpxe4Qqy07Bzpuwc9SF  10.0  10.0   \n",
       "99433   spotify:track:5itKmzRJnapQRAfoqXAuSp  10.0  10.0   \n",
       "122744  spotify:track:4WM22pqXRZkcdrp7alhjsv  10.0  10.0   \n",
       "\n",
       "                          details  Iu    Ui  err  \n",
       "16328   {'was_impossible': False}  29    96  0.0  \n",
       "95201   {'was_impossible': False}  48    63  0.0  \n",
       "95091   {'was_impossible': False}  87  3524  0.0  \n",
       "139977  {'was_impossible': False}  34  2591  0.0  \n",
       "65714   {'was_impossible': False}  37   156  0.0  \n",
       "99648   {'was_impossible': False}  58    63  0.0  \n",
       "109198  {'was_impossible': False}  53  1976  0.0  \n",
       "108821  {'was_impossible': False}  32   290  0.0  \n",
       "99433   {'was_impossible': False}  62   877  0.0  \n",
       "122744  {'was_impossible': False}  29   896  0.0  "
      ]
     },
     "execution_count": 99,
     "metadata": {},
     "output_type": "execute_result"
    }
   ],
   "source": [
    "\n",
    "#best_predictions2=best_predictions2.merge(titles,on='iid')\n",
    "#titles.head()\n",
    "#best_predictions2.to_csv('best_pred_CB_1.csv')\n",
    "\n",
    "best_predictions2"
   ]
  },
  {
   "cell_type": "code",
   "execution_count": 117,
   "metadata": {},
   "outputs": [
    {
     "data": {
      "text/plain": [
       "85.0"
      ]
     },
     "execution_count": 117,
     "metadata": {},
     "output_type": "execute_result"
    }
   ],
   "source": [
    "###### a = [53,468,61,171,268,814,81,118,104,244]\n",
    "a = [113,178,42,145,70,22,21,118,130,11]\n",
    "np.mean(a)"
   ]
  },
  {
   "cell_type": "code",
   "execution_count": 109,
   "metadata": {},
   "outputs": [
    {
     "data": {
      "image/png": "[encoded data removed]",
      "text/plain": [
       "<Figure size 432x288 with 1 Axes>"
      ]
     },
     "metadata": {
      "needs_background": "light"
     },
     "output_type": "display_data"
    }
   ],
   "source": [
    "\n",
    "user_plot(iid='spotify:track:2CR62nxWDw8ZRmJLCpm5PD',title='Do that there - Yung Berg',save=True,name='Dothat_1_CB')"
   ]
  },
  {
   "cell_type": "code",
   "execution_count": 136,
   "metadata": {
    "collapsed": true,
    "jupyter": {
     "outputs_hidden": true,
     "source_hidden": true
    }
   },
   "outputs": [
    {
     "data": {
      "text/html": [
       "<div>\n",
       "<style scoped>\n",
       "    .dataframe tbody tr th:only-of-type {\n",
       "        vertical-align: middle;\n",
       "    }\n",
       "\n",
       "    .dataframe tbody tr th {\n",
       "        vertical-align: top;\n",
       "    }\n",
       "\n",
       "    .dataframe thead th {\n",
       "        text-align: right;\n",
       "    }\n",
       "</style>\n",
       "<table border=\"1\" class=\"dataframe\">\n",
       "  <thead>\n",
       "    <tr style=\"text-align: right;\">\n",
       "      <th></th>\n",
       "      <th>uid</th>\n",
       "      <th>iid</th>\n",
       "      <th>rui</th>\n",
       "      <th>est</th>\n",
       "      <th>details</th>\n",
       "      <th>Iu</th>\n",
       "      <th>Ui</th>\n",
       "      <th>err</th>\n",
       "    </tr>\n",
       "  </thead>\n",
       "  <tbody>\n",
       "    <tr>\n",
       "      <th>0</th>\n",
       "      <td>dee6d7fcd869b969d209333513f965c8d4788994</td>\n",
       "      <td>spotify:track:6wUvHjoklTF6qgSZf9XWcM</td>\n",
       "      <td>1.0</td>\n",
       "      <td>1.0</td>\n",
       "      <td>{'was_impossible': False}</td>\n",
       "      <td>31</td>\n",
       "      <td>206</td>\n",
       "      <td>0.0</td>\n",
       "    </tr>\n",
       "    <tr>\n",
       "      <th>301313</th>\n",
       "      <td>9daff407510fba46f2ddf46fbde9c84f1cb41608</td>\n",
       "      <td>spotify:track:5g8SFYkcNwvQge426KN8D4</td>\n",
       "      <td>1.0</td>\n",
       "      <td>1.0</td>\n",
       "      <td>{'was_impossible': False}</td>\n",
       "      <td>43</td>\n",
       "      <td>102</td>\n",
       "      <td>0.0</td>\n",
       "    </tr>\n",
       "    <tr>\n",
       "      <th>112946</th>\n",
       "      <td>e29c3680bb3724d2d26bf395dd6db1bf91cc271a</td>\n",
       "      <td>spotify:track:7y4DV5fyumFO1FtCY91DEi</td>\n",
       "      <td>1.0</td>\n",
       "      <td>1.0</td>\n",
       "      <td>{'was_impossible': False}</td>\n",
       "      <td>20</td>\n",
       "      <td>113</td>\n",
       "      <td>0.0</td>\n",
       "    </tr>\n",
       "    <tr>\n",
       "      <th>112975</th>\n",
       "      <td>431322cf25248f21da3d9a18ddf3216abd10938f</td>\n",
       "      <td>spotify:track:619bPJZXSzqYi5vysR51Sa</td>\n",
       "      <td>1.0</td>\n",
       "      <td>1.0</td>\n",
       "      <td>{'was_impossible': False}</td>\n",
       "      <td>67</td>\n",
       "      <td>204</td>\n",
       "      <td>0.0</td>\n",
       "    </tr>\n",
       "    <tr>\n",
       "      <th>112977</th>\n",
       "      <td>be958a41e8435ea8cd531b0038dca8c216b2b804</td>\n",
       "      <td>spotify:track:5BgRSqd7xAhEfWgA9opde9</td>\n",
       "      <td>1.0</td>\n",
       "      <td>1.0</td>\n",
       "      <td>{'was_impossible': False}</td>\n",
       "      <td>104</td>\n",
       "      <td>147</td>\n",
       "      <td>0.0</td>\n",
       "    </tr>\n",
       "    <tr>\n",
       "      <th>112981</th>\n",
       "      <td>29bce3ce70f3e22e4a8c305314e7400517a96ec8</td>\n",
       "      <td>spotify:track:6YBBmPBI2LZRG18k5NfcLX</td>\n",
       "      <td>1.0</td>\n",
       "      <td>1.0</td>\n",
       "      <td>{'was_impossible': False}</td>\n",
       "      <td>72</td>\n",
       "      <td>850</td>\n",
       "      <td>0.0</td>\n",
       "    </tr>\n",
       "    <tr>\n",
       "      <th>17578</th>\n",
       "      <td>1fb479471a2b80b07c2d22b8e5b86adc9b87a353</td>\n",
       "      <td>spotify:track:0Om9WAB5RS09L80DyOfTNa</td>\n",
       "      <td>1.0</td>\n",
       "      <td>1.0</td>\n",
       "      <td>{'was_impossible': False}</td>\n",
       "      <td>59</td>\n",
       "      <td>606</td>\n",
       "      <td>0.0</td>\n",
       "    </tr>\n",
       "    <tr>\n",
       "      <th>112994</th>\n",
       "      <td>4f0b45c639d272610c1745fe77650d70396c234e</td>\n",
       "      <td>spotify:track:4u6gJZKuSbGbcgIEkhlyjb</td>\n",
       "      <td>1.0</td>\n",
       "      <td>1.0</td>\n",
       "      <td>{'was_impossible': False}</td>\n",
       "      <td>48</td>\n",
       "      <td>150</td>\n",
       "      <td>0.0</td>\n",
       "    </tr>\n",
       "    <tr>\n",
       "      <th>113002</th>\n",
       "      <td>6de6f52e02c361439e362f453405bada7e0b8fe0</td>\n",
       "      <td>spotify:track:64Ei3OCnT9OosQfjNz6enh</td>\n",
       "      <td>1.0</td>\n",
       "      <td>1.0</td>\n",
       "      <td>{'was_impossible': False}</td>\n",
       "      <td>29</td>\n",
       "      <td>264</td>\n",
       "      <td>0.0</td>\n",
       "    </tr>\n",
       "    <tr>\n",
       "      <th>113004</th>\n",
       "      <td>0245d8e12bfabebff65bb2b0830d08892980ab1a</td>\n",
       "      <td>spotify:track:68K0qD0VDqdm0eWXsGqnvM</td>\n",
       "      <td>1.0</td>\n",
       "      <td>1.0</td>\n",
       "      <td>{'was_impossible': False}</td>\n",
       "      <td>18</td>\n",
       "      <td>68</td>\n",
       "      <td>0.0</td>\n",
       "    </tr>\n",
       "  </tbody>\n",
       "</table>\n",
       "</div>"
      ],
      "text/plain": [
       "                                             uid  \\\n",
       "0       dee6d7fcd869b969d209333513f965c8d4788994   \n",
       "301313  9daff407510fba46f2ddf46fbde9c84f1cb41608   \n",
       "112946  e29c3680bb3724d2d26bf395dd6db1bf91cc271a   \n",
       "112975  431322cf25248f21da3d9a18ddf3216abd10938f   \n",
       "112977  be958a41e8435ea8cd531b0038dca8c216b2b804   \n",
       "112981  29bce3ce70f3e22e4a8c305314e7400517a96ec8   \n",
       "17578   1fb479471a2b80b07c2d22b8e5b86adc9b87a353   \n",
       "112994  4f0b45c639d272610c1745fe77650d70396c234e   \n",
       "113002  6de6f52e02c361439e362f453405bada7e0b8fe0   \n",
       "113004  0245d8e12bfabebff65bb2b0830d08892980ab1a   \n",
       "\n",
       "                                         iid  rui  est  \\\n",
       "0       spotify:track:6wUvHjoklTF6qgSZf9XWcM  1.0  1.0   \n",
       "301313  spotify:track:5g8SFYkcNwvQge426KN8D4  1.0  1.0   \n",
       "112946  spotify:track:7y4DV5fyumFO1FtCY91DEi  1.0  1.0   \n",
       "112975  spotify:track:619bPJZXSzqYi5vysR51Sa  1.0  1.0   \n",
       "112977  spotify:track:5BgRSqd7xAhEfWgA9opde9  1.0  1.0   \n",
       "112981  spotify:track:6YBBmPBI2LZRG18k5NfcLX  1.0  1.0   \n",
       "17578   spotify:track:0Om9WAB5RS09L80DyOfTNa  1.0  1.0   \n",
       "112994  spotify:track:4u6gJZKuSbGbcgIEkhlyjb  1.0  1.0   \n",
       "113002  spotify:track:64Ei3OCnT9OosQfjNz6enh  1.0  1.0   \n",
       "113004  spotify:track:68K0qD0VDqdm0eWXsGqnvM  1.0  1.0   \n",
       "\n",
       "                          details   Iu   Ui  err  \n",
       "0       {'was_impossible': False}   31  206  0.0  \n",
       "301313  {'was_impossible': False}   43  102  0.0  \n",
       "112946  {'was_impossible': False}   20  113  0.0  \n",
       "112975  {'was_impossible': False}   67  204  0.0  \n",
       "112977  {'was_impossible': False}  104  147  0.0  \n",
       "112981  {'was_impossible': False}   72  850  0.0  \n",
       "17578   {'was_impossible': False}   59  606  0.0  \n",
       "112994  {'was_impossible': False}   48  150  0.0  \n",
       "113002  {'was_impossible': False}   29  264  0.0  \n",
       "113004  {'was_impossible': False}   18   68  0.0  "
      ]
     },
     "execution_count": 136,
     "metadata": {},
     "output_type": "execute_result"
    }
   ],
   "source": [
    "best_predictions1\n"
   ]
  },
  {
   "cell_type": "code",
   "execution_count": 116,
   "metadata": {},
   "outputs": [
    {
     "data": {
      "text/html": [
       "<div>\n",
       "<style scoped>\n",
       "    .dataframe tbody tr th:only-of-type {\n",
       "        vertical-align: middle;\n",
       "    }\n",
       "\n",
       "    .dataframe tbody tr th {\n",
       "        vertical-align: top;\n",
       "    }\n",
       "\n",
       "    .dataframe thead th {\n",
       "        text-align: right;\n",
       "    }\n",
       "</style>\n",
       "<table border=\"1\" class=\"dataframe\">\n",
       "  <thead>\n",
       "    <tr style=\"text-align: right;\">\n",
       "      <th></th>\n",
       "      <th>uid</th>\n",
       "      <th>iid</th>\n",
       "      <th>rui</th>\n",
       "      <th>est</th>\n",
       "      <th>details</th>\n",
       "      <th>Iu</th>\n",
       "      <th>Ui</th>\n",
       "      <th>err</th>\n",
       "    </tr>\n",
       "  </thead>\n",
       "  <tbody>\n",
       "    <tr>\n",
       "      <th>19798</th>\n",
       "      <td>15c7d74a3c1afa2110591713283efa0bbe14c2e9</td>\n",
       "      <td>spotify:track:0jv5OcbvTUHgO8FgHhya8b</td>\n",
       "      <td>10.0</td>\n",
       "      <td>1.463539</td>\n",
       "      <td>{'was_impossible': False}</td>\n",
       "      <td>67</td>\n",
       "      <td>960</td>\n",
       "      <td>8.536461</td>\n",
       "    </tr>\n",
       "    <tr>\n",
       "      <th>28484</th>\n",
       "      <td>1aa4fd215aadb160965110ed8a829745cde319eb</td>\n",
       "      <td>spotify:track:793jTClDbqmxFme8QUl0JE</td>\n",
       "      <td>10.0</td>\n",
       "      <td>1.458685</td>\n",
       "      <td>{'was_impossible': False}</td>\n",
       "      <td>333</td>\n",
       "      <td>199</td>\n",
       "      <td>8.541315</td>\n",
       "    </tr>\n",
       "    <tr>\n",
       "      <th>14337</th>\n",
       "      <td>7a7dc4aec09a72c616d04da1d6944cd392ee68de</td>\n",
       "      <td>spotify:track:0COqiPhxzoWICwFCS4eZcp</td>\n",
       "      <td>10.0</td>\n",
       "      <td>1.414952</td>\n",
       "      <td>{'was_impossible': False}</td>\n",
       "      <td>176</td>\n",
       "      <td>1318</td>\n",
       "      <td>8.585048</td>\n",
       "    </tr>\n",
       "    <tr>\n",
       "      <th>89351</th>\n",
       "      <td>55aec6fdfa7eae657f91f5941a1bb6a12b9dc023</td>\n",
       "      <td>spotify:track:4vp2J1l5RD4gMZwGFLfRAu</td>\n",
       "      <td>10.0</td>\n",
       "      <td>1.397227</td>\n",
       "      <td>{'was_impossible': False}</td>\n",
       "      <td>108</td>\n",
       "      <td>1647</td>\n",
       "      <td>8.602773</td>\n",
       "    </tr>\n",
       "    <tr>\n",
       "      <th>131386</th>\n",
       "      <td>870f1779c978274f4ab14ea139a79695c897baea</td>\n",
       "      <td>spotify:track:2ffmPvnKZQqAOAEUo5Klpu</td>\n",
       "      <td>10.0</td>\n",
       "      <td>1.344526</td>\n",
       "      <td>{'was_impossible': False}</td>\n",
       "      <td>69</td>\n",
       "      <td>2318</td>\n",
       "      <td>8.655474</td>\n",
       "    </tr>\n",
       "    <tr>\n",
       "      <th>121663</th>\n",
       "      <td>6a9cf03dfb2fc82f5b3b043c9c3fdbab997fd54d</td>\n",
       "      <td>spotify:track:5mSVJjVzZEoVrg6amF8udl</td>\n",
       "      <td>10.0</td>\n",
       "      <td>1.344082</td>\n",
       "      <td>{'was_impossible': False}</td>\n",
       "      <td>306</td>\n",
       "      <td>257</td>\n",
       "      <td>8.655918</td>\n",
       "    </tr>\n",
       "    <tr>\n",
       "      <th>21167</th>\n",
       "      <td>51a95eaf5e69b1ca8e416ceff9c1a1cec995fc1c</td>\n",
       "      <td>spotify:track:11IzgLRXV7Cgek3tEgGgjw</td>\n",
       "      <td>10.0</td>\n",
       "      <td>1.328270</td>\n",
       "      <td>{'was_impossible': False}</td>\n",
       "      <td>62</td>\n",
       "      <td>645</td>\n",
       "      <td>8.671730</td>\n",
       "    </tr>\n",
       "    <tr>\n",
       "      <th>90817</th>\n",
       "      <td>6f1702dd4bdfa1f7aace6064ca75d5921f993767</td>\n",
       "      <td>spotify:track:3rGgubo6wsk2X59XMYnZL6</td>\n",
       "      <td>10.0</td>\n",
       "      <td>1.302073</td>\n",
       "      <td>{'was_impossible': False}</td>\n",
       "      <td>226</td>\n",
       "      <td>416</td>\n",
       "      <td>8.697927</td>\n",
       "    </tr>\n",
       "    <tr>\n",
       "      <th>29992</th>\n",
       "      <td>1f2f182fde1f4bc8d2262639c51be73b5d8555b1</td>\n",
       "      <td>spotify:track:4lwavw59UjXUPJZtKNdFYp</td>\n",
       "      <td>10.0</td>\n",
       "      <td>1.008608</td>\n",
       "      <td>{'was_impossible': False}</td>\n",
       "      <td>59</td>\n",
       "      <td>1901</td>\n",
       "      <td>8.991392</td>\n",
       "    </tr>\n",
       "    <tr>\n",
       "      <th>98547</th>\n",
       "      <td>6a9cf03dfb2fc82f5b3b043c9c3fdbab997fd54d</td>\n",
       "      <td>spotify:track:0nCAVzknkzRXRgB6LhRv04</td>\n",
       "      <td>10.0</td>\n",
       "      <td>1.000000</td>\n",
       "      <td>{'was_impossible': False}</td>\n",
       "      <td>306</td>\n",
       "      <td>537</td>\n",
       "      <td>9.000000</td>\n",
       "    </tr>\n",
       "  </tbody>\n",
       "</table>\n",
       "</div>"
      ],
      "text/plain": [
       "                                             uid  \\\n",
       "19798   15c7d74a3c1afa2110591713283efa0bbe14c2e9   \n",
       "28484   1aa4fd215aadb160965110ed8a829745cde319eb   \n",
       "14337   7a7dc4aec09a72c616d04da1d6944cd392ee68de   \n",
       "89351   55aec6fdfa7eae657f91f5941a1bb6a12b9dc023   \n",
       "131386  870f1779c978274f4ab14ea139a79695c897baea   \n",
       "121663  6a9cf03dfb2fc82f5b3b043c9c3fdbab997fd54d   \n",
       "21167   51a95eaf5e69b1ca8e416ceff9c1a1cec995fc1c   \n",
       "90817   6f1702dd4bdfa1f7aace6064ca75d5921f993767   \n",
       "29992   1f2f182fde1f4bc8d2262639c51be73b5d8555b1   \n",
       "98547   6a9cf03dfb2fc82f5b3b043c9c3fdbab997fd54d   \n",
       "\n",
       "                                         iid   rui       est  \\\n",
       "19798   spotify:track:0jv5OcbvTUHgO8FgHhya8b  10.0  1.463539   \n",
       "28484   spotify:track:793jTClDbqmxFme8QUl0JE  10.0  1.458685   \n",
       "14337   spotify:track:0COqiPhxzoWICwFCS4eZcp  10.0  1.414952   \n",
       "89351   spotify:track:4vp2J1l5RD4gMZwGFLfRAu  10.0  1.397227   \n",
       "131386  spotify:track:2ffmPvnKZQqAOAEUo5Klpu  10.0  1.344526   \n",
       "121663  spotify:track:5mSVJjVzZEoVrg6amF8udl  10.0  1.344082   \n",
       "21167   spotify:track:11IzgLRXV7Cgek3tEgGgjw  10.0  1.328270   \n",
       "90817   spotify:track:3rGgubo6wsk2X59XMYnZL6  10.0  1.302073   \n",
       "29992   spotify:track:4lwavw59UjXUPJZtKNdFYp  10.0  1.008608   \n",
       "98547   spotify:track:0nCAVzknkzRXRgB6LhRv04  10.0  1.000000   \n",
       "\n",
       "                          details   Iu    Ui       err  \n",
       "19798   {'was_impossible': False}   67   960  8.536461  \n",
       "28484   {'was_impossible': False}  333   199  8.541315  \n",
       "14337   {'was_impossible': False}  176  1318  8.585048  \n",
       "89351   {'was_impossible': False}  108  1647  8.602773  \n",
       "131386  {'was_impossible': False}   69  2318  8.655474  \n",
       "121663  {'was_impossible': False}  306   257  8.655918  \n",
       "21167   {'was_impossible': False}   62   645  8.671730  \n",
       "90817   {'was_impossible': False}  226   416  8.697927  \n",
       "29992   {'was_impossible': False}   59  1901  8.991392  \n",
       "98547   {'was_impossible': False}  306   537  9.000000  "
      ]
     },
     "execution_count": 116,
     "metadata": {},
     "output_type": "execute_result"
    }
   ],
   "source": [
    "#worst_predictions2.to_csv('worst_pred_CB_1.csv')\n",
    "worst_predictions2"
   ]
  },
  {
   "cell_type": "code",
   "execution_count": 115,
   "metadata": {},
   "outputs": [
    {
     "data": {
      "text/plain": [
       "171.2"
      ]
     },
     "execution_count": 115,
     "metadata": {},
     "output_type": "execute_result"
    }
   ],
   "source": [
    "worst_predictions2.Iu.agg('mean')"
   ]
  },
  {
   "cell_type": "code",
   "execution_count": 119,
   "metadata": {},
   "outputs": [
    {
     "name": "stdout",
     "output_type": "stream",
     "text": [
      "0.8449507776407108\n",
      "0.5942498496555255\n",
      "0.846969587109766\n",
      "0.5961904708502896\n",
      "0.8440813090581256\n",
      "0.5940768421605569\n",
      "0.8467662833397758\n",
      "0.590735563330894\n",
      "0.8439140023825611\n",
      "0.5940552658137498\n"
     ]
    }
   ],
   "source": [
    "from collections import defaultdict\n",
    "\n",
    "from surprise import Dataset\n",
    "from surprise import SVD\n",
    "from surprise.model_selection import KFold\n",
    "\n",
    "\n",
    "def precision_recall_at_k(predictions, k=10, threshold=3.5):\n",
    "    '''Return precision and recall at k metrics for each user.'''\n",
    "\n",
    "    # First map the predictions to each user.\n",
    "    user_est_true = defaultdict(list)\n",
    "    for uid, _, true_r, est, _ in predictions:\n",
    "        user_est_true[uid].append((est, true_r))\n",
    "\n",
    "    precisions = dict()\n",
    "    recalls = dict()\n",
    "    for uid, user_ratings in user_est_true.items():\n",
    "\n",
    "        # Sort user ratings by estimated value\n",
    "        user_ratings.sort(key=lambda x: x[0], reverse=True)\n",
    "\n",
    "        # Number of relevant items\n",
    "        n_rel = sum((true_r >= threshold) for (_, true_r) in user_ratings)\n",
    "\n",
    "        # Number of recommended items in top k\n",
    "        n_rec_k = sum((est >= threshold) for (est, _) in user_ratings[:k])\n",
    "\n",
    "        # Number of relevant and recommended items in top k\n",
    "        n_rel_and_rec_k = sum(((true_r >= threshold) and (est >= threshold))\n",
    "                              for (est, true_r) in user_ratings[:k])\n",
    "\n",
    "        # Precision@K: Proportion of recommended items that are relevant\n",
    "        precisions[uid] = n_rel_and_rec_k / n_rec_k if n_rec_k != 0 else 1\n",
    "\n",
    "        # Recall@K: Proportion of relevant items that are recommended\n",
    "        recalls[uid] = n_rel_and_rec_k / n_rel if n_rel != 0 else 1\n",
    "\n",
    "    return precisions, recalls\n",
    "\n",
    "\n",
    "#data = Dataset.load_builtin('ml-100k')\n",
    "kf = KFold(n_splits=5)\n",
    "#algo = SVD()\n",
    "\n",
    "for trainset, testset in kf.split(model2.data):\n",
    "    alg = model2.algo.fit(trainset)\n",
    "    predictions = alg.test(testset)\n",
    "    precisions, recalls = precision_recall_at_k(predictions, k=5, threshold=4)\n",
    "\n",
    "    # Precision and recall can then be averaged over all users\n",
    "    print(sum(prec for prec in precisions.values()) / len(precisions))\n",
    "    print(sum(rec for rec in recalls.values()) / len(recalls))"
   ]
  },
  {
   "cell_type": "code",
   "execution_count": 122,
   "metadata": {
    "collapsed": true,
    "jupyter": {
     "outputs_hidden": true
    }
   },
   "outputs": [
    {
     "ename": "ValueError",
     "evalue": "too many values to unpack (expected 2)",
     "output_type": "error",
     "traceback": [
      "\u001b[1;31m---------------------------------------------------------------------------\u001b[0m",
      "\u001b[1;31mValueError\u001b[0m                                Traceback (most recent call last)",
      "\u001b[1;32m<ipython-input-122-1fa2ef1fc4b0>\u001b[0m in \u001b[0;36m<module>\u001b[1;34m()\u001b[0m\n\u001b[0;32m     29\u001b[0m \u001b[1;31m#print(uuid, [iid for (iid, _) in user_ratings])\u001b[0m\u001b[1;33m\u001b[0m\u001b[1;33m\u001b[0m\u001b[0m\n\u001b[0;32m     30\u001b[0m \u001b[1;32mfor\u001b[0m \u001b[0muser_ratings\u001b[0m \u001b[1;32min\u001b[0m \u001b[0mtop_n\u001b[0m\u001b[1;33m.\u001b[0m\u001b[0mitems\u001b[0m\u001b[1;33m(\u001b[0m\u001b[1;33m)\u001b[0m\u001b[1;33m:\u001b[0m\u001b[1;33m\u001b[0m\u001b[0m\n\u001b[1;32m---> 31\u001b[1;33m     \u001b[0mprint\u001b[0m\u001b[1;33m(\u001b[0m\u001b[0muuid\u001b[0m\u001b[1;33m,\u001b[0m \u001b[1;33m[\u001b[0m\u001b[0miid\u001b[0m \u001b[1;32mfor\u001b[0m \u001b[1;33m(\u001b[0m\u001b[0miid\u001b[0m\u001b[1;33m,\u001b[0m \u001b[0m_\u001b[0m\u001b[1;33m)\u001b[0m \u001b[1;32min\u001b[0m \u001b[0muser_ratings\u001b[0m\u001b[1;33m]\u001b[0m\u001b[1;33m)\u001b[0m\u001b[1;33m\u001b[0m\u001b[0m\n\u001b[0m",
      "\u001b[1;32m<ipython-input-122-1fa2ef1fc4b0>\u001b[0m in \u001b[0;36m<listcomp>\u001b[1;34m(.0)\u001b[0m\n\u001b[0;32m     29\u001b[0m \u001b[1;31m#print(uuid, [iid for (iid, _) in user_ratings])\u001b[0m\u001b[1;33m\u001b[0m\u001b[1;33m\u001b[0m\u001b[0m\n\u001b[0;32m     30\u001b[0m \u001b[1;32mfor\u001b[0m \u001b[0muser_ratings\u001b[0m \u001b[1;32min\u001b[0m \u001b[0mtop_n\u001b[0m\u001b[1;33m.\u001b[0m\u001b[0mitems\u001b[0m\u001b[1;33m(\u001b[0m\u001b[1;33m)\u001b[0m\u001b[1;33m:\u001b[0m\u001b[1;33m\u001b[0m\u001b[0m\n\u001b[1;32m---> 31\u001b[1;33m     \u001b[0mprint\u001b[0m\u001b[1;33m(\u001b[0m\u001b[0muuid\u001b[0m\u001b[1;33m,\u001b[0m \u001b[1;33m[\u001b[0m\u001b[0miid\u001b[0m \u001b[1;32mfor\u001b[0m \u001b[1;33m(\u001b[0m\u001b[0miid\u001b[0m\u001b[1;33m,\u001b[0m \u001b[0m_\u001b[0m\u001b[1;33m)\u001b[0m \u001b[1;32min\u001b[0m \u001b[0muser_ratings\u001b[0m\u001b[1;33m]\u001b[0m\u001b[1;33m)\u001b[0m\u001b[1;33m\u001b[0m\u001b[0m\n\u001b[0m",
      "\u001b[1;31mValueError\u001b[0m: too many values to unpack (expected 2)"
     ]
    }
   ],
   "source": [
    "def get_top_n(predictions, n=10):\n",
    "    '''Return the top-N recommendation for each user from a set of predictions.\n",
    "\n",
    "    Args:\n",
    "        predictions(list of Prediction objects): The list of predictions, as\n",
    "            returned by the test method of an algorithm.\n",
    "        n(int): The number of recommendation to output for each user. Default\n",
    "            is 10.\n",
    "\n",
    "    Returns:\n",
    "    A dict where keys are user (raw) ids and values are lists of tuples:\n",
    "        [(raw item id, rating estimation), ...] of size n.\n",
    "    '''\n",
    "\n",
    "    # First map the predictions to each user.\n",
    "    top_n = defaultdict(list)\n",
    "    for uid, iid, true_r, est, _ in predictions:\n",
    "        top_n[uid].append((iid, est))\n",
    "\n",
    "    # Then sort the predictions for each user and retrieve the k highest ones.\n",
    "    for uid, user_ratings in top_n.items():\n",
    "        user_ratings.sort(key=lambda x: x[1], reverse=True)\n",
    "        top_n[uid] = user_ratings[:n]\n",
    "\n",
    "    return top_n\n",
    "top_n=get_top_n(preds,n=10)\n",
    "# Print the recommended items for each user\n",
    "uuid = '6d625c6557df84b60d90426c0116138b617b9449'\n",
    "#print(uuid, [iid for (iid, _) in user_ratings])\n",
    "for user_ratings in top_n.items():\n",
    "    print(uuid, [iid for (iid, _) in user_ratings])"
   ]
  },
  {
   "cell_type": "code",
   "execution_count": 52,
   "metadata": {},
   "outputs": [
    {
     "name": "stdout",
     "output_type": "stream",
     "text": [
      "RMSE: 3.2303\n",
      "MSE: 10.4351\n",
      "MAE:  1.8992\n",
      "FCP:  0.5483\n"
     ]
    },
    {
     "data": {
      "text/html": [
       "<div>\n",
       "<style scoped>\n",
       "    .dataframe tbody tr th:only-of-type {\n",
       "        vertical-align: middle;\n",
       "    }\n",
       "\n",
       "    .dataframe tbody tr th {\n",
       "        vertical-align: top;\n",
       "    }\n",
       "\n",
       "    .dataframe thead th {\n",
       "        text-align: right;\n",
       "    }\n",
       "</style>\n",
       "<table border=\"1\" class=\"dataframe\">\n",
       "  <thead>\n",
       "    <tr style=\"text-align: right;\">\n",
       "      <th></th>\n",
       "      <th>Factors</th>\n",
       "      <th>Epochs</th>\n",
       "      <th>Init Mean</th>\n",
       "      <th>Init Std</th>\n",
       "      <th>Root MSE</th>\n",
       "      <th>MSE</th>\n",
       "      <th>Mean average sqr</th>\n",
       "      <th>Fraction of Concordant Pairs</th>\n",
       "    </tr>\n",
       "  </thead>\n",
       "  <tbody>\n",
       "    <tr>\n",
       "      <th>0</th>\n",
       "      <td>100</td>\n",
       "      <td>20</td>\n",
       "      <td>0</td>\n",
       "      <td>0.1</td>\n",
       "      <td>3.230347</td>\n",
       "      <td>10.435141</td>\n",
       "      <td>1.899211</td>\n",
       "      <td>0.548286</td>\n",
       "    </tr>\n",
       "  </tbody>\n",
       "</table>\n",
       "</div>"
      ],
      "text/plain": [
       "   Factors  Epochs  Init Mean  Init Std  Root MSE        MSE  \\\n",
       "0      100      20          0       0.1  3.230347  10.435141   \n",
       "\n",
       "   Mean average sqr  Fraction of Concordant Pairs  \n",
       "0          1.899211                      0.548286  "
      ]
     },
     "execution_count": 52,
     "metadata": {},
     "output_type": "execute_result"
    }
   ],
   "source": [
    "model3.get_info()"
   ]
  },
  {
   "cell_type": "code",
   "execution_count": 55,
   "metadata": {},
   "outputs": [
    {
     "data": {
      "text/plain": [
       "<surprise.prediction_algorithms.matrix_factorization.SVD at 0x2ba33e6dfd0>"
      ]
     },
     "execution_count": 55,
     "metadata": {},
     "output_type": "execute_result"
    }
   ],
   "source": []
  },
  {
   "cell_type": "markdown",
   "metadata": {},
   "source": [
    "## SVD ++"
   ]
  },
  {
   "cell_type": "markdown",
   "metadata": {},
   "source": [
    "### ++ takes implicit ratings into account\n",
    "#### Implicit ratings describes the fact that a user u rated item j regardless of the rating value"
   ]
  },
  {
   "cell_type": "code",
   "execution_count": 16,
   "metadata": {},
   "outputs": [
    {
     "name": "stdout",
     "output_type": "stream",
     "text": [
      "Time  0.7680873870849609\n"
     ]
    }
   ],
   "source": [
    "svdpp_samp= SVDbuilder('svdpp')\n",
    "svdpp_samp.data(ndf,sample=True)\n",
    "svdpp_samp.builder()\n",
    "svdpp_samp.fitting()"
   ]
  },
  {
   "cell_type": "code",
   "execution_count": 17,
   "metadata": {},
   "outputs": [
    {
     "name": "stdout",
     "output_type": "stream",
     "text": [
      "3.44817961702091\n",
      "{'n_epochs': 15, 'lr_all': 0.003, 'reg_all': 0.6}\n",
      "Time  67.20089554786682\n"
     ]
    }
   ],
   "source": [
    "param_grid = {'n_epochs': [15,20,25], 'lr_all': [0.002,0.003, 0.005],\n",
    "              'reg_all': [0.4,0.5,0.6]}\n",
    "svdpp_samp.Gridsearch(param_grid)"
   ]
  },
  {
   "cell_type": "code",
   "execution_count": 18,
   "metadata": {},
   "outputs": [
    {
     "name": "stdout",
     "output_type": "stream",
     "text": [
      "Time  0.6696450710296631\n"
     ]
    }
   ],
   "source": [
    "svdpp_samp.fitting(gridsearch=True)"
   ]
  },
  {
   "cell_type": "code",
   "execution_count": 19,
   "metadata": {},
   "outputs": [
    {
     "name": "stdout",
     "output_type": "stream",
     "text": [
      "RMSE: 3.4917\n",
      "MSE: 12.1922\n",
      "MAE:  2.1712\n",
      "FCP:  0.4658\n"
     ]
    },
    {
     "data": {
      "text/html": [
       "<div>\n",
       "<style scoped>\n",
       "    .dataframe tbody tr th:only-of-type {\n",
       "        vertical-align: middle;\n",
       "    }\n",
       "\n",
       "    .dataframe tbody tr th {\n",
       "        vertical-align: top;\n",
       "    }\n",
       "\n",
       "    .dataframe thead th {\n",
       "        text-align: right;\n",
       "    }\n",
       "</style>\n",
       "<table border=\"1\" class=\"dataframe\">\n",
       "  <thead>\n",
       "    <tr style=\"text-align: right;\">\n",
       "      <th></th>\n",
       "      <th>Factors</th>\n",
       "      <th>Epochs</th>\n",
       "      <th>Init Mean</th>\n",
       "      <th>Init Std</th>\n",
       "      <th>Root MSE</th>\n",
       "      <th>MSE</th>\n",
       "      <th>Mean average sqr</th>\n",
       "      <th>Fraction of Concordant Pairs</th>\n",
       "    </tr>\n",
       "  </thead>\n",
       "  <tbody>\n",
       "    <tr>\n",
       "      <th>0</th>\n",
       "      <td>20</td>\n",
       "      <td>15</td>\n",
       "      <td>0</td>\n",
       "      <td>0.1</td>\n",
       "      <td>3.491735</td>\n",
       "      <td>12.192214</td>\n",
       "      <td>2.171233</td>\n",
       "      <td>0.465753</td>\n",
       "    </tr>\n",
       "  </tbody>\n",
       "</table>\n",
       "</div>"
      ],
      "text/plain": [
       "   Factors  Epochs  Init Mean  Init Std  Root MSE        MSE  \\\n",
       "0       20      15          0       0.1  3.491735  12.192214   \n",
       "\n",
       "   Mean average sqr  Fraction of Concordant Pairs  \n",
       "0          2.171233                      0.465753  "
      ]
     },
     "execution_count": 19,
     "metadata": {},
     "output_type": "execute_result"
    }
   ],
   "source": [
    "svdpp_samp.get_info()"
   ]
  },
  {
   "cell_type": "code",
   "execution_count": 29,
   "metadata": {},
   "outputs": [
    {
     "data": {
      "image/png": "[encoded data removed]",
      "text/plain": [
       "<Figure size 720x720 with 5 Axes>"
      ]
     },
     "metadata": {
      "needs_background": "light"
     },
     "output_type": "display_data"
    }
   ],
   "source": [
    "svdpp_samp.plot_atr()"
   ]
  },
  {
   "cell_type": "code",
   "execution_count": 20,
   "metadata": {},
   "outputs": [
    {
     "data": {
      "text/html": [
       "<div>\n",
       "<style scoped>\n",
       "    .dataframe tbody tr th:only-of-type {\n",
       "        vertical-align: middle;\n",
       "    }\n",
       "\n",
       "    .dataframe tbody tr th {\n",
       "        vertical-align: top;\n",
       "    }\n",
       "\n",
       "    .dataframe thead th {\n",
       "        text-align: right;\n",
       "    }\n",
       "</style>\n",
       "<table border=\"1\" class=\"dataframe\">\n",
       "  <thead>\n",
       "    <tr style=\"text-align: right;\">\n",
       "      <th></th>\n",
       "      <th>Factors</th>\n",
       "      <th>Epochs</th>\n",
       "      <th>Init Mean</th>\n",
       "      <th>Init Std</th>\n",
       "      <th>Root MSE</th>\n",
       "      <th>MSE</th>\n",
       "      <th>Mean average sqr</th>\n",
       "      <th>Fraction of Concordant Pairs</th>\n",
       "    </tr>\n",
       "  </thead>\n",
       "  <tbody>\n",
       "    <tr>\n",
       "      <th>0</th>\n",
       "      <td>20</td>\n",
       "      <td>15</td>\n",
       "      <td>0</td>\n",
       "      <td>0.1</td>\n",
       "      <td>3.491735</td>\n",
       "      <td>12.192214</td>\n",
       "      <td>2.171233</td>\n",
       "      <td>0.465753</td>\n",
       "    </tr>\n",
       "  </tbody>\n",
       "</table>\n",
       "</div>"
      ],
      "text/plain": [
       "   Factors  Epochs  Init Mean  Init Std  Root MSE        MSE  \\\n",
       "0       20      15          0       0.1  3.491735  12.192214   \n",
       "\n",
       "   Mean average sqr  Fraction of Concordant Pairs  \n",
       "0          2.171233                      0.465753  "
      ]
     },
     "execution_count": 20,
     "metadata": {},
     "output_type": "execute_result"
    }
   ],
   "source": [
    "svdpp_samp.atr"
   ]
  },
  {
   "cell_type": "markdown",
   "metadata": {},
   "source": [
    "## Train the full dataset on optimal parameters and save the model"
   ]
  },
  {
   "cell_type": "code",
   "execution_count": 23,
   "metadata": {},
   "outputs": [],
   "source": [
    "params2 = svdpp_samp.gs.best_params['rmse']"
   ]
  },
  {
   "cell_type": "code",
   "execution_count": 9,
   "metadata": {},
   "outputs": [],
   "source": [
    "svdpp1 = SVDbuilder('svdpp')\n",
    "svdpp1.data(ndf,sample=False)\n",
    "svdpp1.builder()\n"
   ]
  },
  {
   "cell_type": "code",
   "execution_count": 10,
   "metadata": {},
   "outputs": [
    {
     "name": "stdout",
     "output_type": "stream",
     "text": [
      "hello\n"
     ]
    }
   ],
   "source": [
    "print('hello')"
   ]
  },
  {
   "cell_type": "code",
   "execution_count": null,
   "metadata": {},
   "outputs": [],
   "source": [
    "svdpp1.fitting()"
   ]
  },
  {
   "cell_type": "code",
   "execution_count": null,
   "metadata": {},
   "outputs": [],
   "source": [
    "svdpp1.get_info()"
   ]
  },
  {
   "cell_type": "code",
   "execution_count": null,
   "metadata": {},
   "outputs": [],
   "source": [
    "svdpp1.atr"
   ]
  },
  {
   "cell_type": "code",
   "execution_count": null,
   "metadata": {},
   "outputs": [],
   "source": [
    "def get_top_n(predictions, n=10):\n",
    "    '''Return the top-N recommendation for each user from a set of predictions.\n",
    "\n",
    "    Args:\n",
    "        predictions(list of Prediction objects): The list of predictions, as\n",
    "            returned by the test method of an algorithm.\n",
    "        n(int): The number of recommendation to output for each user. Default\n",
    "            is 10.\n",
    "\n",
    "    Returns:\n",
    "    A dict where keys are user (raw) ids and values are lists of tuples:\n",
    "        [(raw item id, rating estimation), ...] of size n.\n",
    "    '''\n",
    "\n",
    "    # First map the predictions to each user.\n",
    "    top_n = defaultdict(list)\n",
    "    for uid, iid, true_r, est, _ in predictions:\n",
    "        top_n[uid].append((iid, est))\n",
    "\n",
    "    # Then sort the predictions for each user and retrieve the k highest ones.\n",
    "    for uid, user_ratings in top_n.items():\n",
    "        user_ratings.sort(key=lambda x: x[1], reverse=True)\n",
    "        top_n[uid] = user_ratings[:n]\n",
    "\n",
    "    return top_n\n",
    "\n",
    "\n",
    "# First train an SVD algorithm on the movielens dataset.\n",
    "data = Dataset.load_builtin('ml-100k')\n",
    "trainset = data.build_full_trainset()\n",
    "algo = SVD()\n",
    "algo.fit(trainset)\n",
    "\n",
    "# Than predict ratings for all pairs (u, i) that are NOT in the training set.\n",
    "testset = trainset.build_anti_testset()\n",
    "predictions = algo.test(testset)\n",
    "\n",
    "top_n = get_top_n(predictions, n=10)\n",
    "\n",
    "# Print the recommended items for each user\n",
    "for uid, user_ratings in top_n.items():\n",
    "    print(uid, [iid for (iid, _) in user_ratings])"
   ]
  },
  {
   "cell_type": "code",
   "execution_count": null,
   "metadata": {},
   "outputs": [],
   "source": [
    "#svdpp1.fitting(gridsearch=True,full_set=True,dataframe=ndf)\n",
    "#svdpp1.save_model('svdpp2')"
   ]
  },
  {
   "cell_type": "markdown",
   "metadata": {},
   "source": [
    "# Previous code"
   ]
  },
  {
   "cell_type": "code",
   "execution_count": 34,
   "metadata": {
    "collapsed": true,
    "jupyter": {
     "outputs_hidden": true,
     "source_hidden": true
    }
   },
   "outputs": [
    {
     "ename": "NameError",
     "evalue": "name 'data' is not defined",
     "output_type": "error",
     "traceback": [
      "\u001b[1;31m---------------------------------------------------------------------------\u001b[0m",
      "\u001b[1;31mNameError\u001b[0m                                 Traceback (most recent call last)",
      "\u001b[1;32m<ipython-input-34-e28faef16219>\u001b[0m in \u001b[0;36m<module>\u001b[1;34m()\u001b[0m\n\u001b[0;32m      4\u001b[0m \u001b[1;33m\u001b[0m\u001b[0m\n\u001b[0;32m      5\u001b[0m \u001b[0mgs\u001b[0m \u001b[1;33m=\u001b[0m \u001b[0mGridSearchCV\u001b[0m\u001b[1;33m(\u001b[0m\u001b[0mSVD\u001b[0m\u001b[1;33m,\u001b[0m \u001b[0mparam_grid\u001b[0m\u001b[1;33m,\u001b[0m \u001b[0mmeasures\u001b[0m\u001b[1;33m=\u001b[0m\u001b[1;33m[\u001b[0m\u001b[1;34m'rmse'\u001b[0m\u001b[1;33m,\u001b[0m \u001b[1;34m'mae'\u001b[0m\u001b[1;33m]\u001b[0m\u001b[1;33m,\u001b[0m \u001b[0mcv\u001b[0m\u001b[1;33m=\u001b[0m\u001b[1;36m3\u001b[0m\u001b[1;33m)\u001b[0m\u001b[1;33m\u001b[0m\u001b[0m\n\u001b[1;32m----> 6\u001b[1;33m \u001b[0mgs\u001b[0m\u001b[1;33m.\u001b[0m\u001b[0mfit\u001b[0m\u001b[1;33m(\u001b[0m\u001b[0mdata\u001b[0m\u001b[1;33m)\u001b[0m\u001b[1;33m\u001b[0m\u001b[0m\n\u001b[0m\u001b[0;32m      7\u001b[0m \u001b[1;33m\u001b[0m\u001b[0m\n\u001b[0;32m      8\u001b[0m \u001b[1;31m# best RMSE score\u001b[0m\u001b[1;33m\u001b[0m\u001b[1;33m\u001b[0m\u001b[0m\n",
      "\u001b[1;31mNameError\u001b[0m: name 'data' is not defined"
     ]
    }
   ],
   "source": [
    "start = time.time()\n",
    "param_grid = {'n_epochs': [15,20,25], 'lr_all': [0.002,0.003, 0.005],\n",
    "              'reg_all': [0.4,0.5,0.6]}\n",
    "\n",
    "gs = GridSearchCV(SVD, param_grid, measures=['rmse', 'mae'], cv=3)\n",
    "gs.fit(gs.data)\n",
    "\n",
    "# best RMSE score\n",
    "print(gs.best_score['rmse'])\n",
    "\n",
    "# combination of parameters that gave the best RMSE score\n",
    "print(gs.best_params['rmse'])\n",
    "print(time.time()-start)"
   ]
  },
  {
   "cell_type": "code",
   "execution_count": 25,
   "metadata": {
    "collapsed": true,
    "jupyter": {
     "outputs_hidden": true,
     "source_hidden": true
    }
   },
   "outputs": [
    {
     "data": {
      "text/plain": [
       "{'split0_test_rmse': array([3.46956038, 3.46886513, 3.46908695, 3.46492746, 3.46518026,\n",
       "        3.46588462, 3.46174036, 3.46301033, 3.46325756, 3.46575156,\n",
       "        3.46681201, 3.46657368, 3.46219616, 3.46345902, 3.46476663,\n",
       "        3.46206769, 3.46291327, 3.46291395, 3.46409587, 3.46523656,\n",
       "        3.4656658 , 3.46208049, 3.46182911, 3.46212835, 3.46327972,\n",
       "        3.46348987, 3.46324858]),\n",
       " 'split1_test_rmse': array([3.53052776, 3.52987029, 3.52977682, 3.52841528, 3.52859508,\n",
       "        3.52915461, 3.52873527, 3.52899538, 3.52958019, 3.52841397,\n",
       "        3.52924147, 3.52976972, 3.52928983, 3.52792363, 3.52983581,\n",
       "        3.52926465, 3.5298111 , 3.529795  , 3.52894334, 3.52921379,\n",
       "        3.52952869, 3.52911746, 3.52895721, 3.52886852, 3.53266671,\n",
       "        3.53350206, 3.53120078]),\n",
       " 'split2_test_rmse': array([3.55916403, 3.55936925, 3.55885673, 3.5573727 , 3.55768523,\n",
       "        3.55731361, 3.55550504, 3.55686436, 3.55502466, 3.55753831,\n",
       "        3.55841482, 3.55730116, 3.55767244, 3.55601991, 3.55590523,\n",
       "        3.55628769, 3.5555232 , 3.55393155, 3.55701644, 3.55589675,\n",
       "        3.55656761, 3.55481462, 3.55471071, 3.55471729, 3.55517131,\n",
       "        3.55443536, 3.55585953]),\n",
       " 'mean_test_rmse': array([3.51975072, 3.51936822, 3.51924017, 3.51690515, 3.51715352,\n",
       "        3.51745095, 3.51532689, 3.51629002, 3.51595414, 3.51723461,\n",
       "        3.5181561 , 3.51788152, 3.51638615, 3.51580085, 3.51683589,\n",
       "        3.51587334, 3.51608252, 3.51554683, 3.51668522, 3.51678237,\n",
       "        3.51725404, 3.51533753, 3.51516568, 3.51523805, 3.51703925,\n",
       "        3.51714243, 3.51676963]),\n",
       " 'std_test_rmse': array([0.03736586, 0.03768703, 0.03739803, 0.03860823, 0.03862188,\n",
       "        0.03823216, 0.03943596, 0.03935492, 0.03868292, 0.03829652,\n",
       "        0.03820936, 0.03798128, 0.04003173, 0.03874791, 0.03832588,\n",
       "        0.03961353, 0.03903422, 0.03849943, 0.03891233, 0.03804141,\n",
       "        0.03811198, 0.03909237, 0.03915271, 0.03900872, 0.03910822,\n",
       "        0.03888872, 0.03916113]),\n",
       " 'rank_test_rmse': array([27, 26, 25, 16, 19, 22,  3, 10,  8, 20, 24, 23, 11,  6, 15,  7,  9,\n",
       "         5, 12, 14, 21,  4,  1,  2, 17, 18, 13], dtype=int64),\n",
       " 'split0_test_mae': array([2.20363797, 2.20434129, 2.20343095, 2.20155778, 2.20165137,\n",
       "        2.20216982, 2.19781851, 2.19839637, 2.19788323, 2.20297625,\n",
       "        2.20336531, 2.20280479, 2.19912533, 2.19997054, 2.20048542,\n",
       "        2.19530947, 2.19589223, 2.19588927, 2.20029047, 2.20065562,\n",
       "        2.20071541, 2.19795819, 2.19676972, 2.19762081, 2.19153831,\n",
       "        2.19306026, 2.19151626]),\n",
       " 'split1_test_mae': array([2.23464806, 2.23333312, 2.2331208 , 2.23196023, 2.23188877,\n",
       "        2.23262226, 2.22878879, 2.2295507 , 2.23001132, 2.23218171,\n",
       "        2.23280721, 2.2327224 , 2.23157157, 2.23066483, 2.23121902,\n",
       "        2.22693227, 2.22721483, 2.22595163, 2.2323148 , 2.2322    ,\n",
       "        2.23255293, 2.2299789 , 2.2303845 , 2.22935242, 2.22360013,\n",
       "        2.225799  , 2.2244811 ]),\n",
       " 'split2_test_mae': array([2.23196856, 2.23182102, 2.2303983 , 2.23091448, 2.2314293 ,\n",
       "        2.22998494, 2.22923537, 2.22988317, 2.22735594, 2.23184463,\n",
       "        2.230782  , 2.23018524, 2.23046915, 2.22877767, 2.22934365,\n",
       "        2.2269018 , 2.22495713, 2.22395002, 2.23184023, 2.23023932,\n",
       "        2.22982045, 2.22851011, 2.22860458, 2.22731155, 2.22174532,\n",
       "        2.2206372 , 2.22161814]),\n",
       " 'mean_test_mae': array([2.2234182 , 2.22316514, 2.22231669, 2.2214775 , 2.22165648,\n",
       "        2.22159234, 2.21861423, 2.21927675, 2.21841683, 2.2223342 ,\n",
       "        2.22231817, 2.22190414, 2.22038868, 2.21980435, 2.22034937,\n",
       "        2.21638118, 2.2160214 , 2.21526364, 2.22148183, 2.22103164,\n",
       "        2.2210296 , 2.21881573, 2.21858627, 2.21809493, 2.21229459,\n",
       "        2.21316548, 2.2125385 ]),\n",
       " 'std_test_mae': array([0.01402945, 0.01332478, 0.0134004 , 0.01409184, 0.01414699,\n",
       "        0.01377593, 0.01470592, 0.01476528, 0.01455986, 0.01368883,\n",
       "        0.01342717, 0.01354494, 0.01504219, 0.01404576, 0.01406678,\n",
       "        0.01489996, 0.01426328, 0.0137241 , 0.01498581, 0.01443024,\n",
       "        0.01440755, 0.0147607 , 0.01544373, 0.01450134, 0.01469643,\n",
       "        0.01437188, 0.01491085]),\n",
       " 'rank_test_mae': array([27, 26, 23, 18, 21, 20, 10, 12,  8, 25, 24, 22, 15, 13, 14,  6,  5,\n",
       "         4, 19, 17, 16, 11,  9,  7,  1,  3,  2], dtype=int64),\n",
       " 'mean_fit_time': array([0.44805058, 0.45342922, 0.407293  , 0.48908869, 0.39321423,\n",
       "        0.39376887, 0.39128908, 0.39661996, 0.41026894, 0.50616407,\n",
       "        0.54398775, 0.53344321, 0.51903518, 0.53865759, 0.57693418,\n",
       "        0.56923993, 0.61386291, 0.50195527, 0.77520974, 0.75788697,\n",
       "        0.65797774, 0.72352592, 0.83639558, 0.77892892, 0.80457807,\n",
       "        0.84053159, 0.86484448]),\n",
       " 'std_fit_time': array([0.0131608 , 0.01760166, 0.03175312, 0.07015625, 0.0156777 ,\n",
       "        0.01419769, 0.01191042, 0.01639898, 0.0388793 , 0.01636029,\n",
       "        0.00754321, 0.00955815, 0.01327139, 0.02094902, 0.02639169,\n",
       "        0.04247869, 0.08481606, 0.01735757, 0.07618426, 0.08714185,\n",
       "        0.02497814, 0.04292483, 0.03471864, 0.12505918, 0.0517949 ,\n",
       "        0.00648862, 0.11053296]),\n",
       " 'mean_test_time': array([0.02304109, 0.04300213, 0.02331765, 0.02733572, 0.02691054,\n",
       "        0.02020892, 0.02179948, 0.020938  , 0.02020105, 0.02548639,\n",
       "        0.02265803, 0.0228893 , 0.04024196, 0.02067542, 0.02156607,\n",
       "        0.02878936, 0.0254852 , 0.02156695, 0.02702006, 0.02461664,\n",
       "        0.02271183, 0.02793392, 0.04037658, 0.02668866, 0.03001531,\n",
       "        0.0250202 , 0.02856779]),\n",
       " 'std_test_time': array([6.79140957e-04, 2.90535361e-02, 8.63461038e-04, 2.32819724e-03,\n",
       "        8.26245187e-03, 5.20405859e-05, 1.54861285e-03, 8.14557586e-04,\n",
       "        1.09049912e-04, 8.81564345e-04, 1.16477772e-03, 1.09495934e-03,\n",
       "        2.38755722e-02, 9.92979751e-04, 1.82452135e-03, 1.21204500e-02,\n",
       "        2.36075541e-03, 1.90022892e-03, 3.39108116e-03, 3.76208806e-03,\n",
       "        8.88597150e-04, 3.40412572e-03, 2.58129906e-02, 5.04934928e-03,\n",
       "        3.13017678e-03, 1.48115912e-03, 5.41084964e-03]),\n",
       " 'params': [{'n_epochs': 15, 'lr_all': 0.002, 'reg_all': 0.4},\n",
       "  {'n_epochs': 15, 'lr_all': 0.002, 'reg_all': 0.5},\n",
       "  {'n_epochs': 15, 'lr_all': 0.002, 'reg_all': 0.6},\n",
       "  {'n_epochs': 15, 'lr_all': 0.003, 'reg_all': 0.4},\n",
       "  {'n_epochs': 15, 'lr_all': 0.003, 'reg_all': 0.5},\n",
       "  {'n_epochs': 15, 'lr_all': 0.003, 'reg_all': 0.6},\n",
       "  {'n_epochs': 15, 'lr_all': 0.005, 'reg_all': 0.4},\n",
       "  {'n_epochs': 15, 'lr_all': 0.005, 'reg_all': 0.5},\n",
       "  {'n_epochs': 15, 'lr_all': 0.005, 'reg_all': 0.6},\n",
       "  {'n_epochs': 20, 'lr_all': 0.002, 'reg_all': 0.4},\n",
       "  {'n_epochs': 20, 'lr_all': 0.002, 'reg_all': 0.5},\n",
       "  {'n_epochs': 20, 'lr_all': 0.002, 'reg_all': 0.6},\n",
       "  {'n_epochs': 20, 'lr_all': 0.003, 'reg_all': 0.4},\n",
       "  {'n_epochs': 20, 'lr_all': 0.003, 'reg_all': 0.5},\n",
       "  {'n_epochs': 20, 'lr_all': 0.003, 'reg_all': 0.6},\n",
       "  {'n_epochs': 20, 'lr_all': 0.005, 'reg_all': 0.4},\n",
       "  {'n_epochs': 20, 'lr_all': 0.005, 'reg_all': 0.5},\n",
       "  {'n_epochs': 20, 'lr_all': 0.005, 'reg_all': 0.6},\n",
       "  {'n_epochs': 25, 'lr_all': 0.002, 'reg_all': 0.4},\n",
       "  {'n_epochs': 25, 'lr_all': 0.002, 'reg_all': 0.5},\n",
       "  {'n_epochs': 25, 'lr_all': 0.002, 'reg_all': 0.6},\n",
       "  {'n_epochs': 25, 'lr_all': 0.003, 'reg_all': 0.4},\n",
       "  {'n_epochs': 25, 'lr_all': 0.003, 'reg_all': 0.5},\n",
       "  {'n_epochs': 25, 'lr_all': 0.003, 'reg_all': 0.6},\n",
       "  {'n_epochs': 25, 'lr_all': 0.005, 'reg_all': 0.4},\n",
       "  {'n_epochs': 25, 'lr_all': 0.005, 'reg_all': 0.5},\n",
       "  {'n_epochs': 25, 'lr_all': 0.005, 'reg_all': 0.6}],\n",
       " 'param_n_epochs': [15,\n",
       "  15,\n",
       "  15,\n",
       "  15,\n",
       "  15,\n",
       "  15,\n",
       "  15,\n",
       "  15,\n",
       "  15,\n",
       "  20,\n",
       "  20,\n",
       "  20,\n",
       "  20,\n",
       "  20,\n",
       "  20,\n",
       "  20,\n",
       "  20,\n",
       "  20,\n",
       "  25,\n",
       "  25,\n",
       "  25,\n",
       "  25,\n",
       "  25,\n",
       "  25,\n",
       "  25,\n",
       "  25,\n",
       "  25],\n",
       " 'param_lr_all': [0.002,\n",
       "  0.002,\n",
       "  0.002,\n",
       "  0.003,\n",
       "  0.003,\n",
       "  0.003,\n",
       "  0.005,\n",
       "  0.005,\n",
       "  0.005,\n",
       "  0.002,\n",
       "  0.002,\n",
       "  0.002,\n",
       "  0.003,\n",
       "  0.003,\n",
       "  0.003,\n",
       "  0.005,\n",
       "  0.005,\n",
       "  0.005,\n",
       "  0.002,\n",
       "  0.002,\n",
       "  0.002,\n",
       "  0.003,\n",
       "  0.003,\n",
       "  0.003,\n",
       "  0.005,\n",
       "  0.005,\n",
       "  0.005],\n",
       " 'param_reg_all': [0.4,\n",
       "  0.5,\n",
       "  0.6,\n",
       "  0.4,\n",
       "  0.5,\n",
       "  0.6,\n",
       "  0.4,\n",
       "  0.5,\n",
       "  0.6,\n",
       "  0.4,\n",
       "  0.5,\n",
       "  0.6,\n",
       "  0.4,\n",
       "  0.5,\n",
       "  0.6,\n",
       "  0.4,\n",
       "  0.5,\n",
       "  0.6,\n",
       "  0.4,\n",
       "  0.5,\n",
       "  0.6,\n",
       "  0.4,\n",
       "  0.5,\n",
       "  0.6,\n",
       "  0.4,\n",
       "  0.5,\n",
       "  0.6]}"
      ]
     },
     "execution_count": 25,
     "metadata": {},
     "output_type": "execute_result"
    }
   ],
   "source": [
    "gs.cv_results"
   ]
  },
  {
   "cell_type": "code",
   "execution_count": 205,
   "metadata": {
    "collapsed": true,
    "jupyter": {
     "outputs_hidden": true,
     "source_hidden": true
    }
   },
   "outputs": [
    {
     "name": "stdout",
     "output_type": "stream",
     "text": [
      "RMSE: 3.2765\n"
     ]
    },
    {
     "data": {
      "text/plain": [
       "3.2765339259585886"
      ]
     },
     "execution_count": 205,
     "metadata": {},
     "output_type": "execute_result"
    }
   ],
   "source": [
    "def vanSVD(train,test):\n",
    "    algo = SVD()\n",
    "    algo.fit(train)\n",
    "    pred= algo.test(test)\n",
    "    return algo,pred\n",
    "svd_model,pred1 =vanSVD(train=train,test=test)\n",
    "accuracy.rmse(pred1)"
   ]
  },
  {
   "cell_type": "code",
   "execution_count": 108,
   "metadata": {},
   "outputs": [
    {
     "name": "stdout",
     "output_type": "stream",
     "text": [
      "user: b80344d063b5ccb3212f76538f3d9e43d87dca9e item: SOHRQZQ12A6D4F81D2 r_ui = None   est = 2.76   {'was_impossible': False}\n"
     ]
    },
    {
     "data": {
      "text/plain": [
       "Prediction(uid='b80344d063b5ccb3212f76538f3d9e43d87dca9e', iid='SOHRQZQ12A6D4F81D2', r_ui=None, est=2.758888888888889, details={'was_impossible': False})"
      ]
     },
     "execution_count": 108,
     "metadata": {},
     "output_type": "execute_result"
    }
   ],
   "source": [
    "uid = 'b80344d063b5ccb3212f76538f3d9e43d87dca9e'\n",
    "sid = 'SOHRQZQ12A6D4F81D2'\n",
    "svd_model.predict(uid,sid,verbose=True)"
   ]
  },
  {
   "cell_type": "code",
   "execution_count": 355,
   "metadata": {},
   "outputs": [
    {
     "name": "stdout",
     "output_type": "stream",
     "text": [
      "0.3287515640258789\n"
     ]
    }
   ],
   "source": [
    "real= []\n",
    "est = []\n",
    "start =time.time()\n",
    "for i,k in enumerate(pred2):\n",
    "    real.append(k.r_ui)\n",
    "    est.append(k.est)\n",
    "print(time.time()-start)"
   ]
  },
  {
   "cell_type": "code",
   "execution_count": null,
   "metadata": {},
   "outputs": [],
   "source": [
    "real=np.array(real)\n",
    "est = np.array(est)\n",
    "diff = np.subtract(np.log(real),np.log(est))\n",
    "plt.plot(diff)"
   ]
  },
  {
   "cell_type": "markdown",
   "metadata": {},
   "source": [
    "### Try to predict a list of songs for a user that she hasn't heard before"
   ]
  },
  {
   "cell_type": "code",
   "execution_count": 60,
   "metadata": {},
   "outputs": [],
   "source": [
    "from scipy.stats import kde\n",
    "import matplotlib.pyplot as plt\n",
    "import numpy as np\n",
    "import seaborn as sns\n",
    "import pandas as pd\n",
    "plt.style.use('seaborn')\n",
    "#sns.kdeplot(real,est, cmap=\"Reds\", shade=True)\n",
    "#plt.title('Overplotting? Try 2D density graph', loc='left')"
   ]
  },
  {
   "cell_type": "markdown",
   "metadata": {},
   "source": [
    "#### 2 ways of selecting dataframe without that user"
   ]
  },
  {
   "cell_type": "code",
   "execution_count": 229,
   "metadata": {},
   "outputs": [],
   "source": [
    "class recommender():\n",
    "    def __init__(self,data,model):\n",
    "        self.user = None\n",
    "        self.model = model\n",
    "        self.df = data\n",
    "    def get_user(self,test):\n",
    "        if test: #just to test\n",
    "            self.user = 'b80344d063b5ccb3212f76538f3d9e43d87dca9e'\n",
    "        else:\n",
    "            ind = randint(0,len(self.data)-1) #get a random index\n",
    "            self.user = self.data.loc[ind,'user_id']\n",
    "            \n",
    "            \n",
    "    def recommend(self,sample=False): \n",
    "        #pick all the songs which the user has not listened to\n",
    "        non_interacted_songs = self.df[self.df['user_id'] != self.user]\n",
    "        songs = non_interacted_songs['song_id']\n",
    "        if sample:\n",
    "            sample_songs = songs.sample(n=100,random_state=10)\n",
    "        \n",
    "        songs = list(songs.unique()) \n",
    "        #since same song can come up for different users\n",
    "        \n",
    "        iids=[]\n",
    "        scores=[]\n",
    "        \n",
    "        for k in songs:\n",
    "            values = self.model.predict(self.user,k,verbose=False)\n",
    "            iids.append(values.iid)\n",
    "            scores.append(values.est)\n",
    "        #\n",
    "        d = {'song_id':iids,'score':scores}\n",
    "        recs = pd.DataFrame(data=d)\n",
    "        self.rec = recs.sort_values('score',ascending=False).reset_index(drop=True)\n",
    "        "
   ]
  },
  {
   "cell_type": "code",
   "execution_count": 210,
   "metadata": {},
   "outputs": [
    {
     "name": "stdout",
     "output_type": "stream",
     "text": [
      "2.1708788871765137\n"
     ]
    }
   ],
   "source": [
    "start= time.time()\n",
    "user1 = recommender(data=ndf,model= svdpp_model)\n",
    "user1.get_user(test=True)\n",
    "user1.recommend(sample=False)\n",
    "print(time.time()-start)"
   ]
  },
  {
   "cell_type": "code",
   "execution_count": 226,
   "metadata": {},
   "outputs": [
    {
     "data": {
      "text/html": [
       "<div>\n",
       "<style scoped>\n",
       "    .dataframe tbody tr th:only-of-type {\n",
       "        vertical-align: middle;\n",
       "    }\n",
       "\n",
       "    .dataframe tbody tr th {\n",
       "        vertical-align: top;\n",
       "    }\n",
       "\n",
       "    .dataframe thead th {\n",
       "        text-align: right;\n",
       "    }\n",
       "</style>\n",
       "<table border=\"1\" class=\"dataframe\">\n",
       "  <thead>\n",
       "    <tr style=\"text-align: right;\">\n",
       "      <th></th>\n",
       "      <th>id</th>\n",
       "      <th>score</th>\n",
       "    </tr>\n",
       "  </thead>\n",
       "  <tbody>\n",
       "    <tr>\n",
       "      <th>0</th>\n",
       "      <td>SOACBLB12AB01871C7</td>\n",
       "      <td>9.472962</td>\n",
       "    </tr>\n",
       "    <tr>\n",
       "      <th>1</th>\n",
       "      <td>SOWDNAY12A8C1354A4</td>\n",
       "      <td>7.948089</td>\n",
       "    </tr>\n",
       "    <tr>\n",
       "      <th>2</th>\n",
       "      <td>SOOGNOZ12AAF3B2936</td>\n",
       "      <td>7.815060</td>\n",
       "    </tr>\n",
       "    <tr>\n",
       "      <th>3</th>\n",
       "      <td>SOBFPJC12A58A7D1AB</td>\n",
       "      <td>7.379370</td>\n",
       "    </tr>\n",
       "    <tr>\n",
       "      <th>4</th>\n",
       "      <td>SORJICW12A8C13640D</td>\n",
       "      <td>7.271135</td>\n",
       "    </tr>\n",
       "  </tbody>\n",
       "</table>\n",
       "</div>"
      ],
      "text/plain": [
       "                   id     score\n",
       "0  SOACBLB12AB01871C7  9.472962\n",
       "1  SOWDNAY12A8C1354A4  7.948089\n",
       "2  SOOGNOZ12AAF3B2936  7.815060\n",
       "3  SOBFPJC12A58A7D1AB  7.379370\n",
       "4  SORJICW12A8C13640D  7.271135"
      ]
     },
     "execution_count": 226,
     "metadata": {},
     "output_type": "execute_result"
    }
   ],
   "source": [
    "recs = user1.rec\n",
    "user1.rec.head()"
   ]
  },
  {
   "cell_type": "code",
   "execution_count": 269,
   "metadata": {},
   "outputs": [
    {
     "data": {
      "text/html": [
       "<div>\n",
       "<style scoped>\n",
       "    .dataframe tbody tr th:only-of-type {\n",
       "        vertical-align: middle;\n",
       "    }\n",
       "\n",
       "    .dataframe tbody tr th {\n",
       "        vertical-align: top;\n",
       "    }\n",
       "\n",
       "    .dataframe thead th {\n",
       "        text-align: right;\n",
       "    }\n",
       "</style>\n",
       "<table border=\"1\" class=\"dataframe\">\n",
       "  <thead>\n",
       "    <tr style=\"text-align: right;\">\n",
       "      <th></th>\n",
       "      <th>song_id</th>\n",
       "      <th>score</th>\n",
       "    </tr>\n",
       "  </thead>\n",
       "  <tbody>\n",
       "    <tr>\n",
       "      <th>0</th>\n",
       "      <td>SOACBLB12AB01871C7</td>\n",
       "      <td>9.472962</td>\n",
       "    </tr>\n",
       "    <tr>\n",
       "      <th>1</th>\n",
       "      <td>SOWDNAY12A8C1354A4</td>\n",
       "      <td>7.948089</td>\n",
       "    </tr>\n",
       "    <tr>\n",
       "      <th>2</th>\n",
       "      <td>SOOGNOZ12AAF3B2936</td>\n",
       "      <td>7.815060</td>\n",
       "    </tr>\n",
       "    <tr>\n",
       "      <th>3</th>\n",
       "      <td>SOBFPJC12A58A7D1AB</td>\n",
       "      <td>7.379370</td>\n",
       "    </tr>\n",
       "    <tr>\n",
       "      <th>4</th>\n",
       "      <td>SORJICW12A8C13640D</td>\n",
       "      <td>7.271135</td>\n",
       "    </tr>\n",
       "  </tbody>\n",
       "</table>\n",
       "</div>"
      ],
      "text/plain": [
       "              song_id     score\n",
       "0  SOACBLB12AB01871C7  9.472962\n",
       "1  SOWDNAY12A8C1354A4  7.948089\n",
       "2  SOOGNOZ12AAF3B2936  7.815060\n",
       "3  SOBFPJC12A58A7D1AB  7.379370\n",
       "4  SORJICW12A8C13640D  7.271135"
      ]
     },
     "execution_count": 269,
     "metadata": {},
     "output_type": "execute_result"
    }
   ],
   "source": [
    "recs.head()"
   ]
  },
  {
   "cell_type": "code",
   "execution_count": 274,
   "metadata": {},
   "outputs": [
    {
     "name": "stderr",
     "output_type": "stream",
     "text": [
      "C:\\Users\\johan\\Anaconda3\\lib\\site-packages\\ipykernel_launcher.py:2: SettingWithCopyWarning: \n",
      "A value is trying to be set on a copy of a slice from a DataFrame.\n",
      "Try using .loc[row_indexer,col_indexer] = value instead\n",
      "\n",
      "See the caveats in the documentation: http://pandas.pydata.org/pandas-docs/stable/user_guide/indexing.html#returning-a-view-versus-a-copy\n",
      "  \n"
     ]
    },
    {
     "data": {
      "text/html": [
       "<div>\n",
       "<style scoped>\n",
       "    .dataframe tbody tr th:only-of-type {\n",
       "        vertical-align: middle;\n",
       "    }\n",
       "\n",
       "    .dataframe tbody tr th {\n",
       "        vertical-align: top;\n",
       "    }\n",
       "\n",
       "    .dataframe thead th {\n",
       "        text-align: right;\n",
       "    }\n",
       "</style>\n",
       "<table border=\"1\" class=\"dataframe\">\n",
       "  <thead>\n",
       "    <tr style=\"text-align: right;\">\n",
       "      <th></th>\n",
       "      <th>song_id</th>\n",
       "      <th>title</th>\n",
       "      <th>artist_name</th>\n",
       "    </tr>\n",
       "  </thead>\n",
       "  <tbody>\n",
       "    <tr>\n",
       "      <th>0</th>\n",
       "      <td>SOAKIMP12A8C130995</td>\n",
       "      <td>The Cove</td>\n",
       "      <td>Jack Johnson</td>\n",
       "    </tr>\n",
       "    <tr>\n",
       "      <th>1</th>\n",
       "      <td>SOBBMDR12A8C13253B</td>\n",
       "      <td>Entre Dos Aguas</td>\n",
       "      <td>Paco De Lucia</td>\n",
       "    </tr>\n",
       "    <tr>\n",
       "      <th>2</th>\n",
       "      <td>SOBXHDL12A81C204C0</td>\n",
       "      <td>Stronger</td>\n",
       "      <td>Kanye West</td>\n",
       "    </tr>\n",
       "    <tr>\n",
       "      <th>3</th>\n",
       "      <td>SOBYHAJ12A6701BF1D</td>\n",
       "      <td>Constellations</td>\n",
       "      <td>Jack Johnson</td>\n",
       "    </tr>\n",
       "    <tr>\n",
       "      <th>4</th>\n",
       "      <td>SODACBL12A8C13C273</td>\n",
       "      <td>Learn To Fly</td>\n",
       "      <td>Foo Fighters</td>\n",
       "    </tr>\n",
       "  </tbody>\n",
       "</table>\n",
       "</div>"
      ],
      "text/plain": [
       "              song_id            title    artist_name\n",
       "0  SOAKIMP12A8C130995         The Cove   Jack Johnson\n",
       "1  SOBBMDR12A8C13253B  Entre Dos Aguas  Paco De Lucia\n",
       "2  SOBXHDL12A81C204C0         Stronger     Kanye West\n",
       "3  SOBYHAJ12A6701BF1D   Constellations   Jack Johnson\n",
       "4  SODACBL12A8C13C273     Learn To Fly   Foo Fighters"
      ]
     },
     "execution_count": 274,
     "metadata": {},
     "output_type": "execute_result"
    }
   ],
   "source": [
    "songss= df[['song_id','title','artist_name']]\n",
    "songss['song_id'] = songss.song_id.astype('str')\n",
    "recs['song_id'] = recs.song_id.astype('str')\n",
    "songss.head()"
   ]
  },
  {
   "cell_type": "code",
   "execution_count": 277,
   "metadata": {},
   "outputs": [
    {
     "name": "stdout",
     "output_type": "stream",
     "text": [
      "<class 'pandas.core.frame.DataFrame'>\n",
      "RangeIndex: 10000 entries, 0 to 9999\n",
      "Data columns (total 2 columns):\n",
      "song_id    10000 non-null object\n",
      "score      10000 non-null float64\n",
      "dtypes: float64(1), object(1)\n",
      "memory usage: 156.4+ KB\n"
     ]
    }
   ],
   "source": [
    "recs.info()\n",
    "#type(recs.loc[0,'song_id'])"
   ]
  },
  {
   "cell_type": "code",
   "execution_count": null,
   "metadata": {},
   "outputs": [],
   "source": [
    "songs = pd.read_csv('https://static.turi.com/datasets/millionsong/song_data.csv')\n",
    "songs = songs[['song_id', 'title', 'artist_name']]\n",
    "results = recs.join(songs,on='song_id', how='inner')\n",
    "results.head()"
   ]
  },
  {
   "cell_type": "code",
   "execution_count": 7,
   "metadata": {},
   "outputs": [],
   "source": [
    "from surprise import dump\n",
    "def save_model(name,model):\n",
    "    # Dump algorithm and reload it.\n",
    "    file_name = os.path.expanduser(name)\n",
    "    dump.dump(file_name, algo=model)\n",
    "def load_model(file_name):\n",
    "    _, loaded_algo = dump.load(file_name)\n",
    "    return loaded_algo\n",
    "\n"
   ]
  },
  {
   "cell_type": "code",
   "execution_count": null,
   "metadata": {},
   "outputs": [],
   "source": [
    "save_model(name='svdvanilla',model=svd_model)"
   ]
  },
  {
   "cell_type": "code",
   "execution_count": 10,
   "metadata": {},
   "outputs": [],
   "source": [
    "svdpp= load_model(r'models/svdpp')"
   ]
  },
  {
   "cell_type": "code",
   "execution_count": null,
   "metadata": {},
   "outputs": [],
   "source": [
    "# We now ensure that the algo is still the same by checking the predictions.\n",
    "predictions_loaded_algo = loaded_algo.test(trainset.build_testset())\n",
    "assert predictions == predictions_loaded_algo\n",
    "print('Predictions are the same')"
   ]
  },
  {
   "cell_type": "markdown",
   "metadata": {},
   "source": [
    "# KNN\n",
    "#### KNN could not handle more than 50000 observations, due to the size of the cosine matrix"
   ]
  },
  {
   "cell_type": "code",
   "execution_count": 99,
   "metadata": {},
   "outputs": [],
   "source": [
    "from surprise import KNNBasic\n",
    "sample = ndf.sample(n=30000,random_state=0)\n",
    "data = Dataset.load_from_df(sample[['user_id','song_id','raw_ratings']],reader)\n",
    "train,test = train_test_split(data,test_size=0.25)"
   ]
  },
  {
   "cell_type": "code",
   "execution_count": 100,
   "metadata": {},
   "outputs": [
    {
     "name": "stdout",
     "output_type": "stream",
     "text": [
      "Computing the msd similarity matrix...\n",
      "Done computing similarity matrix.\n",
      "RMSE: 3.4969\n"
     ]
    },
    {
     "data": {
      "text/plain": [
       "3.4969041721873553"
      ]
     },
     "execution_count": 100,
     "metadata": {},
     "output_type": "execute_result"
    }
   ],
   "source": [
    "def KNN(train,test):\n",
    "    sim_options={'name':'msd',\n",
    "                'user_based':True}\n",
    "    algo = KNNBasic(sim_options=sim_options)#sim_options={'user_based':True})\n",
    "    algo.fit(train)\n",
    "    pred= algo.test(test)\n",
    "    return algo,pred\n",
    "#\n",
    "\n",
    "\n",
    "\n",
    "model, pred =KNN(train=train,test=test)\n",
    "accuracy.rmse(pred)"
   ]
  },
  {
   "cell_type": "code",
   "execution_count": 101,
   "metadata": {},
   "outputs": [
    {
     "name": "stdout",
     "output_type": "stream",
     "text": [
      "MSE: 12.2283\n"
     ]
    },
    {
     "data": {
      "text/plain": [
       "12.228338789461333"
      ]
     },
     "execution_count": 101,
     "metadata": {},
     "output_type": "execute_result"
    }
   ],
   "source": [
    "accuracy.mse(pred)"
   ]
  },
  {
   "cell_type": "code",
   "execution_count": null,
   "metadata": {},
   "outputs": [],
   "source": []
  }
 ],
 "metadata": {
  "kernelspec": {
   "display_name": "Python 3",
   "language": "python",
   "name": "python3"
  },
  "language_info": {
   "codemirror_mode": {
    "name": "ipython",
    "version": 3
   },
   "file_extension": ".py",
   "mimetype": "text/x-python",
   "name": "python",
   "nbconvert_exporter": "python",
   "pygments_lexer": "ipython3",
   "version": "3.7.0"
  }
 },
 "nbformat": 4,
 "nbformat_minor": 4
}
